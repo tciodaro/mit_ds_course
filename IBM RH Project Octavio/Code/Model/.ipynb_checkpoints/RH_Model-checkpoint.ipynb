{
 "cells": [
  {
   "cell_type": "code",
   "execution_count": 87,
   "metadata": {},
   "outputs": [],
   "source": [
    "from sklearn.feature_extraction.text import TfidfVectorizer\n",
    "from sklearn import model_selection\n",
    "from sklearn import ensemble\n",
    "from sklearn import metrics\n",
    "from sklearn.linear_model import LogisticRegression, LogisticRegressionCV\n",
    "from sklearn.neighbors import KNeighborsClassifier\n",
    "from sklearn.svm import SVC\n",
    "from sklearn import pipeline\n",
    "from sklearn.calibration import CalibratedClassifierCV, calibration_curve\n",
    "from sklearn.model_selection import learning_curve\n",
    "import seaborn as sns\n",
    "from sklearn import tree\n",
    "from sklearn.preprocessing import StandardScaler\n",
    "\n",
    "import numpy as np\n",
    "\n",
    "import matplotlib.pyplot as plt\n",
    "\n",
    "%matplotlib inline\n",
    "%run functions.ipynb\n",
    "%run ./Normalizing.ipynb\n",
    "\n",
    "import graphviz\n",
    "import os\n",
    "\n",
    "\n",
    "os.environ['PATH'] = os.environ['PATH'] + ';C:/Program Files (x86)/Graphviz2.38/bin'\n",
    "\n",
    "target_variable = ['Attrition']\n",
    "\n",
    "classifier_variables = ['Age', 'DailyRate', 'DistanceFromHome', 'Education',\n",
    "       'EnvironmentSatisfaction', 'HourlyRate', 'JobInvolvement',\n",
    "       'JobSatisfaction', 'MonthlyIncome', 'MonthlyRate', 'NumCompaniesWorked',\n",
    "       'OverTime', 'PercentSalaryHike', 'PerformanceRating',\n",
    "       'RelationshipSatisfaction', 'StockOptionLevel', 'TotalWorkingYears',\n",
    "       'TrainingTimesLastYear', 'WorkLifeBalance', 'YearsAtCompany',\n",
    "       'YearsInCurrentRole', 'YearsSinceLastPromotion', 'YearsWithCurrManager',\n",
    "       'NonTravel', 'TravelRarely', 'TravelFrequently', 'D_R&D', 'D_Sales',\n",
    "       'D_RH', 'E_LifeSciences', 'E_Medical', 'E_Marketing',\n",
    "       'E_TechnicalDegree', 'E_RH', 'E_Other', 'Male', 'Female', 'Single',\n",
    "       'Married', 'Divorced']\n"
   ]
  },
  {
   "cell_type": "code",
   "execution_count": 88,
   "metadata": {},
   "outputs": [],
   "source": [
    "data = df_norm.apply(pd.to_numeric)"
   ]
  },
  {
   "cell_type": "code",
   "execution_count": null,
   "metadata": {},
   "outputs": [],
   "source": []
  },
  {
   "cell_type": "markdown",
   "metadata": {},
   "source": [
    "## Test and Training"
   ]
  },
  {
   "cell_type": "code",
   "execution_count": 89,
   "metadata": {},
   "outputs": [],
   "source": [
    "X = data[classifier_variables].values\n",
    "Y = data[target_variable].values\n",
    "idx = Y > 5\n",
    "classes=['Positive attrition (leaving)','Negative Attrition (not leaving)']\n",
    "#Y[idx] = 1\n",
    "#Y[~idx]= 0\n",
    "\n",
    "# Dividir 20% dos dados para o conjunto out-of-sample de teste\n",
    "Xtrain, Xtest, Ytrain, Ytest = model_selection.train_test_split(X,\n",
    "                                                                Y,\n",
    "                                                                test_size=0.2,\n",
    "                                                                random_state=0,\n",
    "                                                                stratify=Y)\n",
    "\n",
    "# Objeto de validacao cruzada\n",
    "cvfold = model_selection.StratifiedKFold(n_splits = 10, random_state = 0)"
   ]
  },
  {
   "cell_type": "markdown",
   "metadata": {},
   "source": [
    "## Curva de aprendizado"
   ]
  },
  {
   "cell_type": "code",
   "execution_count": 90,
   "metadata": {},
   "outputs": [
    {
     "data": {
      "image/png": "[encoded data removed]",
      "text/plain": [
       "<Figure size 432x288 with 1 Axes>"
      ]
     },
     "metadata": {
      "needs_background": "light"
     },
     "output_type": "display_data"
    }
   ],
   "source": [
    "plt.figure()\n",
    "\n",
    "scorer = metrics.make_scorer(metrics.accuracy_score)\n",
    "\n",
    "title = \"Curva de Aprendizado (DecisionTree)\"\n",
    "estimator = tree.DecisionTreeClassifier(random_state=0)\n",
    "plot_learning_curve(estimator, title, Xtrain, Ytrain, ax=plt.gca(),\n",
    "                    cv=cvfold.split(Xtrain, Ytrain, groups=Ytrain),\n",
    "                    scoring=scorer, n_jobs=3);"
   ]
  },
  {
   "cell_type": "markdown",
   "metadata": {},
   "source": [
    "## Training Pipeline"
   ]
  },
  {
   "cell_type": "code",
   "execution_count": 91,
   "metadata": {},
   "outputs": [],
   "source": [
    "model_dict = {\n",
    "    'RandomForest': ensemble.RandomForestClassifier(n_estimators=10, max_features='sqrt'),\n",
    "    'LogisticRegr': LogisticRegression(),\n",
    "    'kNN': KNeighborsClassifier(weights='distance'),\n",
    "    'SVM': SVC(probability=False, gamma='auto'),\n",
    "}\n",
    "\n",
    "model_conf = {\n",
    "    'RandomForest': {\n",
    "        'Model__max_depth': [4, 6],\n",
    "        'Model__n_estimators': [10, 50],\n",
    "\n",
    "    },\n",
    "    'LogisticRegr': {\n",
    "        'Model__C': [0.001, 0.1, 1, 10],\n",
    "    },\n",
    "    'kNN': {\n",
    "        'Model__n_neighbors': [5, 10, 20],\n",
    "    },\n",
    "    'SVM': {\n",
    "        'Model__kernel': ['rbf',],\n",
    "        'Model__C' : [0.1, 1, 10],\n",
    "    }\n",
    "}\n",
    "\n",
    "scorer = metrics.make_scorer(metrics.f1_score)\n",
    "\n",
    "model_list = {}\n",
    "\n",
    "for model_name in model_dict.keys():\n",
    "    conf_train_pipe = [\n",
    "        \n",
    "        ('Model', model_dict[model_name]),\n",
    "    ]\n",
    "    \n",
    "    # Create Pipeline\n",
    "    model_pipe = pipeline.Pipeline(conf_train_pipe)\n",
    "    param_grid = model_conf[model_name].copy()\n",
    "    model_pipe = model_selection.GridSearchCV(model_pipe, param_grid,\n",
    "                                              scoring=scorer,\n",
    "                                              cv=cvfold,\n",
    "                                              return_train_score=True,)\n",
    "\n",
    "    model_pipe.fit(Xtrain, Ytrain)\n",
    "    model_list[model_name] = model_pipe \n"
   ]
  },
  {
   "cell_type": "markdown",
   "metadata": {},
   "source": [
    "## ROC CURVE"
   ]
  },
  {
   "cell_type": "code",
   "execution_count": 92,
   "metadata": {},
   "outputs": [
    {
     "data": {
      "image/png": "[encoded data removed]",
      "text/plain": [
       "<Figure size 432x288 with 1 Axes>"
      ]
     },
     "metadata": {
      "needs_background": "light"
     },
     "output_type": "display_data"
    }
   ],
   "source": [
    "plt.figure(figsize=(6,4))\n",
    "\n",
    "for model_name in model_dict.keys():\n",
    "    model = model_list[model_name]\n",
    "    # estimate Y\n",
    "    if model_name in ['RandomForest', 'SVM']:\n",
    "        final_model = LogisticRegressionCV(Cs=20,cv=5)\n",
    "        if model_name == 'SVM':\n",
    "            Yhat_train = model.decision_function(Xtrain)\n",
    "            Yhat = model.decision_function(Xtest)\n",
    "        else:\n",
    "            Yhat_train = model.predict_proba(Xtrain)[:,1]\n",
    "            Yhat = model.predict_proba(Xtest)[:,1]\n",
    "            \n",
    "        final_model.fit(Yhat_train.reshape(-1, 1), Ytrain)\n",
    "        Yhat  = final_model.predict_proba(Yhat.reshape(-1,1))[:,1]\n",
    "        Ypred = final_model.predict(Yhat.reshape(-1,1))\n",
    "    else:\n",
    "        Yhat = model.predict_proba(Xtest)[:,1]\n",
    "        Ypred = model.predict(Xtest)\n",
    "    \n",
    "    \n",
    "    fpr, tpr, thr = metrics.roc_curve(Ytest, Yhat)\n",
    "    auc = metrics.roc_auc_score(Ytest, Yhat)\n",
    "    f1 = metrics.f1_score(Ytest, Ypred)\n",
    "    label = model_name + \" AUC: %.3f - F1: %.3f\"%(auc, f1)\n",
    "    plt.plot(fpr, tpr, '-', lw=2, label=label)\n",
    "    \n",
    "plt.legend()\n",
    "plt.title('Attrition Classifier')\n",
    "plt.grid()\n",
    "plt.xlabel('Taxa de Falso Alarme')\n",
    "plt.ylabel('Taxa de Detecção');"
   ]
  },
  {
   "cell_type": "markdown",
   "metadata": {},
   "source": [
    "## Choosing 'LogisticRegr' as model"
   ]
  },
  {
   "cell_type": "code",
   "execution_count": 93,
   "metadata": {},
   "outputs": [],
   "source": [
    "model_name = 'LogisticRegr'"
   ]
  },
  {
   "cell_type": "markdown",
   "metadata": {},
   "source": [
    "## Confusion Matrix"
   ]
  },
  {
   "cell_type": "code",
   "execution_count": 94,
   "metadata": {},
   "outputs": [
    {
     "data": {
      "text/html": [
       "<div>\n",
       "<style scoped>\n",
       "    .dataframe tbody tr th:only-of-type {\n",
       "        vertical-align: middle;\n",
       "    }\n",
       "\n",
       "    .dataframe tbody tr th {\n",
       "        vertical-align: top;\n",
       "    }\n",
       "\n",
       "    .dataframe thead th {\n",
       "        text-align: right;\n",
       "    }\n",
       "</style>\n",
       "<table border=\"1\" class=\"dataframe\">\n",
       "  <thead>\n",
       "    <tr style=\"text-align: right;\">\n",
       "      <th></th>\n",
       "      <th>Model Neg</th>\n",
       "      <th>Model Pos</th>\n",
       "      <th>Real Total</th>\n",
       "    </tr>\n",
       "  </thead>\n",
       "  <tbody>\n",
       "    <tr>\n",
       "      <th>Real Neg</th>\n",
       "      <td>239</td>\n",
       "      <td>8</td>\n",
       "      <td>247</td>\n",
       "    </tr>\n",
       "    <tr>\n",
       "      <th>Real Pos</th>\n",
       "      <td>25</td>\n",
       "      <td>22</td>\n",
       "      <td>47</td>\n",
       "    </tr>\n",
       "    <tr>\n",
       "      <th>Model Total</th>\n",
       "      <td>264</td>\n",
       "      <td>30</td>\n",
       "      <td>294</td>\n",
       "    </tr>\n",
       "  </tbody>\n",
       "</table>\n",
       "</div>"
      ],
      "text/plain": [
       "             Model Neg  Model Pos  Real Total\n",
       "Real Neg           239          8         247\n",
       "Real Pos            25         22          47\n",
       "Model Total        264         30         294"
      ]
     },
     "execution_count": 94,
     "metadata": {},
     "output_type": "execute_result"
    }
   ],
   "source": [
    "\n",
    "\n",
    "model = model_list[model_name]\n",
    "Ypred = model.predict(Xtest)\n",
    "\n",
    "col_names = ['Model ' + s for s in ['Neg','Pos']]\n",
    "idx_names = ['Real ' + s for s in ['Neg','Pos']]\n",
    "\n",
    "cmat = metrics.confusion_matrix(Ytest, Ypred)\n",
    "cmat = pd.DataFrame(cmat, index=idx_names,\n",
    "                              columns=col_names)\n",
    "cmat['Real Total'] = cmat.sum(axis=1)\n",
    "cmat.loc['Model Total',:] = cmat.sum(axis=0)\n",
    "cmat = cmat.astype(int)\n",
    "cmat\n"
   ]
  },
  {
   "cell_type": "code",
   "execution_count": 95,
   "metadata": {},
   "outputs": [
    {
     "data": {
      "image/png": "[encoded data removed]",
      "text/plain": [
       "<Figure size 432x288 with 1 Axes>"
      ]
     },
     "metadata": {
      "needs_background": "light"
     },
     "output_type": "display_data"
    }
   ],
   "source": [
    "for i in range(len(classes)):\n",
    "    # 2 Classes case\n",
    "    sns.distplot(Yhat[(np.squeeze(np.array(Ytest==i)))], label=classes[i])\n",
    "\n",
    "plt.title(model_name)\n",
    "plt.ylabel('Densidade Estimada KDE')\n",
    "plt.xlabel('Attrition Probability')\n",
    "plt.grid()\n",
    "plt.legend();"
   ]
  },
  {
   "cell_type": "markdown",
   "metadata": {},
   "source": [
    "## Metrics evaluation"
   ]
  },
  {
   "cell_type": "code",
   "execution_count": 96,
   "metadata": {},
   "outputs": [
    {
     "name": "stdout",
     "output_type": "stream",
     "text": [
      "                                  precision    recall  f1-score   support\n",
      "\n",
      "    Positive attrition (leaving)       0.91      0.97      0.94       247\n",
      "Negative Attrition (not leaving)       0.73      0.47      0.57        47\n",
      "\n",
      "                        accuracy                           0.89       294\n",
      "                       macro avg       0.82      0.72      0.75       294\n",
      "                    weighted avg       0.88      0.89      0.88       294\n",
      "\n"
     ]
    }
   ],
   "source": [
    "print(metrics.classification_report(Ytest, Ypred,target_names=classes))"
   ]
  },
  {
   "cell_type": "markdown",
   "metadata": {},
   "source": [
    "## Saving results on excel (not working)"
   ]
  },
  {
   "cell_type": "code",
   "execution_count": 99,
   "metadata": {},
   "outputs": [
    {
     "ename": "ValueError",
     "evalue": "could not broadcast input array from shape (294,40) into shape (294)",
     "output_type": "error",
     "traceback": [
      "\u001b[1;31m---------------------------------------------------------------------------\u001b[0m",
      "\u001b[1;31mValueError\u001b[0m                                Traceback (most recent call last)",
      "\u001b[1;32m<ipython-input-99-91d5a3dd3ded>\u001b[0m in \u001b[0;36m<module>\u001b[1;34m\u001b[0m\n\u001b[0;32m     22\u001b[0m     \u001b[0mdf_cols\u001b[0m\u001b[1;33m.\u001b[0m\u001b[0mappend\u001b[0m\u001b[1;33m(\u001b[0m\u001b[0mmodel_name\u001b[0m\u001b[1;33m)\u001b[0m\u001b[1;33m\u001b[0m\u001b[1;33m\u001b[0m\u001b[0m\n\u001b[0;32m     23\u001b[0m \u001b[1;33m\u001b[0m\u001b[0m\n\u001b[1;32m---> 24\u001b[1;33m \u001b[0mtest_data\u001b[0m \u001b[1;33m=\u001b[0m \u001b[0mnp\u001b[0m\u001b[1;33m.\u001b[0m\u001b[0marray\u001b[0m\u001b[1;33m(\u001b[0m\u001b[0mtest_data\u001b[0m\u001b[1;33m)\u001b[0m\u001b[1;33m.\u001b[0m\u001b[0mT\u001b[0m\u001b[1;33m\u001b[0m\u001b[1;33m\u001b[0m\u001b[0m\n\u001b[0m\u001b[0;32m     25\u001b[0m \u001b[0mdf_test\u001b[0m \u001b[1;33m=\u001b[0m \u001b[0mpd\u001b[0m\u001b[1;33m.\u001b[0m\u001b[0mDataFrame\u001b[0m\u001b[1;33m(\u001b[0m\u001b[0mdata\u001b[0m\u001b[1;33m=\u001b[0m\u001b[0mtest_data\u001b[0m\u001b[1;33m,\u001b[0m \u001b[0mcolumns\u001b[0m\u001b[1;33m=\u001b[0m\u001b[0mdf_cols\u001b[0m\u001b[1;33m)\u001b[0m\u001b[1;33m\u001b[0m\u001b[1;33m\u001b[0m\u001b[0m\n\u001b[0;32m     26\u001b[0m \u001b[1;33m\u001b[0m\u001b[0m\n",
      "\u001b[1;31mValueError\u001b[0m: could not broadcast input array from shape (294,40) into shape (294)"
     ]
    }
   ],
   "source": [
    "model_name = 'LogisticRegr'\n",
    "\n",
    "test_data = [Xtest, Ytest,]\n",
    "df_cols = ['text', 'class'] \n",
    "for model_name in model_dict.keys():\n",
    "    model = model_list[model_name]\n",
    "    if model_name in ['RandomForest', 'SVM']:\n",
    "        final_model = LogisticRegressionCV(Cs=20,cv=5)\n",
    "        if model_name == 'SVM':\n",
    "            Yhat_train = model.decision_function(Xtrain)\n",
    "            Yhat = model.decision_function(Xtest)\n",
    "        else:\n",
    "            Yhat_train = model.predict_proba(Xtrain)[:,1]\n",
    "            Yhat = model.predict_proba(Xtest)[:,1]\n",
    "            \n",
    "        final_model.fit(Yhat_train.reshape(-1, 1), Ytrain)\n",
    "        Yhat  = final_model.predict_proba(Yhat.reshape(-1,1))[:,1]\n",
    "    else:\n",
    "        Yhat = model.predict_proba(Xtest)[:,1]\n",
    "\n",
    "    test_data.append(Yhat)\n",
    "    df_cols.append(model_name)\n",
    "        \n",
    "test_data = np.array(test_data).T\n",
    "df_test = pd.DataFrame(data=test_data, columns=df_cols)\n",
    "\n",
    "test_data = np.array(test_data).T\n",
    "df_test = pandas.DataFrame(data=test_data, columns=df_cols)\n",
    "\n",
    "df_test\n",
    "\n",
    "ResultsPath = '../../Docs/Project/Results.xlsx'\n",
    "df_test.to_excel(ResultsPath,index = True)"
   ]
  },
  {
   "cell_type": "code",
   "execution_count": 97,
   "metadata": {},
   "outputs": [
    {
     "name": "stdout",
     "output_type": "stream",
     "text": [
      "(294,)\n",
      "(1176, 40)\n",
      "(294, 40)\n"
     ]
    }
   ],
   "source": [
    "print(Yhat.shape)\n",
    "print(Xtrain.shape)\n",
    "print(Xtest.shape)"
   ]
  },
  {
   "cell_type": "code",
   "execution_count": null,
   "metadata": {},
   "outputs": [],
   "source": []
  }
 ],
 "metadata": {
  "kernelspec": {
   "display_name": "Python 3",
   "language": "python",
   "name": "python3"
  },
  "language_info": {
   "codemirror_mode": {
    "name": "ipython",
    "version": 3
   },
   "file_extension": ".py",
   "mimetype": "text/x-python",
   "name": "python",
   "nbconvert_exporter": "python",
   "pygments_lexer": "ipython3",
   "version": "3.7.6"
  }
 },
 "nbformat": 4,
 "nbformat_minor": 4
}
