{
 "cells": [
  {
   "cell_type": "code",
   "execution_count": 1,
   "metadata": {},
   "outputs": [],
   "source": [
    "import pandas as pd\n",
    "import numpy as np\n",
    "import seaborn as sns\n",
    "\n",
    "from sklearn.feature_extraction.text import TfidfVectorizer\n",
    "from sklearn.model_selection import train_test_split\n",
    "from sklearn.model_selection import StratifiedKFold\n",
    "from sklearn.model_selection import GridSearchCV\n",
    "from sklearn.model_selection import cross_val_score\n",
    "\n",
    "from sklearn import pipeline\n",
    "from sklearn.svm import SVC\n",
    "from sklearn import model_selection\n",
    "from sklearn import ensemble\n",
    "from sklearn import metrics\n",
    "from sklearn import svm, datasets\n",
    "from sklearn.linear_model import LogisticRegression, LogisticRegressionCV\n",
    "from sklearn.neighbors import KNeighborsClassifier\n",
    "from sklearn.calibration import CalibratedClassifierCV, calibration_curve\n",
    "\n",
    "\n",
    "import nltk\n",
    "from nltk.corpus import stopwords\n",
    "#nltk.download('stopwords')\n",
    "stopwords_nltk = nltk.corpus.stopwords.words('portuguese')\n",
    "\n",
    "import matplotlib.pyplot as plt\n",
    "%matplotlib inline\n",
    "plt.style.use('bmh')\n",
    "\n",
    "import graphviz\n",
    "import os\n",
    "os.environ['PATH'] = os.environ['PATH'] + ';C:/Program Files (x86)/Graphviz2.38/bin'\n",
    "\n",
    "\n",
    "datapath = '../../Data/Processed/manut_eqprede_treino.parquet'"
   ]
  },
  {
   "cell_type": "markdown",
   "metadata": {},
   "source": [
    "O arquivo parquet utilizado é um subconjunto do analisado. Isto se deve ao volume de registros avaliados ultrapassar o limite de testes, e maquina do não serem suportados para execução na maquina do"
   ]
  },
  {
   "cell_type": "markdown",
   "metadata": {},
   "source": [
    "### **<span style=\"color:MediumSlateBlue\">0. Novas palavras para o Stopwords</span>**"
   ]
  },
  {
   "cell_type": "code",
   "execution_count": 2,
   "metadata": {},
   "outputs": [],
   "source": [
    "stopwords_nltk.append('equipe')\n",
    "stopwords_nltk.append('kv')\n",
    "stopwords_nltk.append('mw')\n",
    "stopwords_nltk.append('quente')\n",
    "stopwords_nltk.append('ponto')\n",
    "stopwords_nltk.append('230')\n",
    "stopwords_nltk.append('nº')\n",
    "stopwords_nltk.append('comando')\n",
    "stopwords_nltk.append('contatos')\n",
    "stopwords_nltk.append('sistema')\n",
    "stopwords_nltk.append('realizar')\n",
    "stopwords_nltk.append('novo')\n",
    "stopwords_nltk.append('01')\n",
    "stopwords_nltk.append('10')\n",
    "stopwords_nltk.append('02')\n",
    "stopwords_nltk.append('03')\n",
    "stopwords_nltk.append('13')\n",
    "stopwords_nltk.append('08')\n",
    "stopwords_nltk.append('equipamentos')\n",
    "stopwords_nltk.append('pm04')\n",
    "stopwords_nltk.append('st6')\n",
    "stopwords_nltk.append('nova')\n",
    "stopwords_nltk.append('ii')\n",
    "stopwords_nltk.append('ons')"
   ]
  },
  {
   "cell_type": "markdown",
   "metadata": {},
   "source": [
    "### **<span style=\"color:MediumSlateBlue\"> 1.Carga dos Dados </span>**"
   ]
  },
  {
   "cell_type": "code",
   "execution_count": 3,
   "metadata": {},
   "outputs": [
    {
     "name": "stdout",
     "output_type": "stream",
     "text": [
      "shape: (8696, 2)\n",
      "columns: Index(['CLASSE', 'TEXTO'], dtype='object')\n"
     ]
    }
   ],
   "source": [
    "dataframe = pd.read_parquet(datapath)\n",
    "\n",
    "print('shape:', dataframe.shape)\n",
    "print('columns:', dataframe.columns)"
   ]
  },
  {
   "cell_type": "markdown",
   "metadata": {},
   "source": [
    "### <span style=\"color:MediumSlateBlue\"> **2. Treino / Teste** </span>"
   ]
  },
  {
   "cell_type": "code",
   "execution_count": 4,
   "metadata": {},
   "outputs": [],
   "source": [
    "X = dataframe['TEXTO'].values.reshape(-1).tolist()\n",
    "Y = (dataframe['CLASSE'].values.reshape(-1) == 'POS').tolist()\n",
    "\n",
    "# Dividir 20% dos dados para o conjunto out-of-sample de teste\n",
    "Xtrain, Xtest, Ytrain, Ytest = model_selection.train_test_split( X,\n",
    "                                                                 Y,\n",
    "                                                                 test_size=0.2,\n",
    "                                                                 random_state=0,\n",
    "                                                                 stratify= Y \n",
    "                                                                 )\n",
    "\n",
    "# Xtrain e Xtest = Texto\n",
    "# Ytrain e Ytest = Classe"
   ]
  },
  {
   "cell_type": "code",
   "execution_count": 5,
   "metadata": {},
   "outputs": [
    {
     "name": "stdout",
     "output_type": "stream",
     "text": [
      "KFold\n",
      "TRAIN: [   0    2    3 ... 6952 6953 6954] TEST: [   1    4    9 ... 6941 6946 6955]\n",
      "TRAIN: [   0    1    2 ... 6953 6954 6955] TEST: [   6    8   12 ... 6943 6948 6949]\n",
      "TRAIN: [   0    1    3 ... 6952 6954 6955] TEST: [   2    5   16 ... 6945 6951 6953]\n",
      "TRAIN: [   0    1    2 ... 6951 6953 6955] TEST: [  21   25   37 ... 6928 6952 6954]\n",
      "TRAIN: [   1    2    4 ... 6953 6954 6955] TEST: [   0    3    7 ... 6944 6947 6950]\n"
     ]
    }
   ],
   "source": [
    "# Objeto de validacao cruzada\n",
    "cvfold = model_selection.StratifiedKFold(n_splits = 5, random_state = 0, shuffle = True, )\n",
    "#, shuffle = False)\n",
    "\n",
    "print(\"KFold\")\n",
    "for train_index, test_index in cvfold.split(Xtrain, Ytrain):\n",
    "    print(\"TRAIN:\", train_index, \"TEST:\", test_index)"
   ]
  },
  {
   "cell_type": "markdown",
   "metadata": {},
   "source": [
    "### <span style=\"color:MediumSlateBlue\"> **3.Construção do Pipeline** </span>"
   ]
  },
  {
   "cell_type": "code",
   "execution_count": 6,
   "metadata": {},
   "outputs": [],
   "source": [
    "# Configure Pipeline\n",
    "model_dict = {\n",
    "    'RandomForest': ensemble.RandomForestClassifier(n_estimators=10, max_features='sqrt'),\n",
    "    'LogisticRegr': LogisticRegression(),\n",
    "    'kNN': KNeighborsClassifier(weights='distance'),\n",
    "    'SVM': SVC(probability=False, gamma='auto'),\n",
    "}\n",
    "\n",
    "model_conf = {\n",
    " 'RandomForest': {\n",
    " 'Model__max_depth': [4, 6],\n",
    " 'Model__n_estimators': [10, 50], \n",
    "    },\n",
    "    'LogisticRegr': {\n",
    "        'Model__C': [0.001, 0.1, 1, 10],\n",
    "    },\n",
    "    'kNN': {\n",
    "        'Model__n_neighbors': [5, 10, 20],\n",
    "    },\n",
    "    'SVM': {\n",
    "        'Model__kernel': ['rbf',],\n",
    "        'Model__C' : [0.1, 1, 10],\n",
    "    }\n",
    "}\n",
    "\n",
    "scorer = metrics.make_scorer(metrics.f1_score)   \n",
    "            "
   ]
  },
  {
   "cell_type": "code",
   "execution_count": 7,
   "metadata": {},
   "outputs": [],
   "source": [
    "model_list = {}\n",
    "\n",
    "\n",
    "for model_name in model_dict.keys():\n",
    "    conf_train_pipe = [\n",
    "        ('TfIDf', TfidfVectorizer(Xtrain,stop_words=stopwords_nltk)),\n",
    "        ('Model', model_dict[model_name]),\n",
    "    ]\n",
    "    \n",
    "    #cross_val_score\n",
    "    # Create Pipeline\n",
    "    model_pipe = pipeline.Pipeline(conf_train_pipe)\n",
    "    param_grid = model_conf[model_name].copy()\n",
    "    model_pipe = model_selection.GridSearchCV(model_pipe, param_grid,\n",
    "                                              scoring=scorer,\n",
    "                                              n_jobs=1,\n",
    "                                              cv=cvfold,\n",
    "                                              return_train_score = True,)\n",
    "    \n",
    "    \n",
    "\n",
    "    model_pipe.fit(Xtrain, Ytrain)\n",
    "    model_list[model_name] = model_pipe "
   ]
  },
  {
   "cell_type": "markdown",
   "metadata": {},
   "source": [
    "### <span style=\"color:MediumSlateBlue\"> **4. Curva ROC** </span>"
   ]
  },
  {
   "cell_type": "code",
   "execution_count": 8,
   "metadata": {},
   "outputs": [
    {
     "data": {
      "text/plain": [
       "Text(0, 0.5, 'Taxa de Detecção')"
      ]
     },
     "execution_count": 8,
     "metadata": {},
     "output_type": "execute_result"
    },
    {
     "data": {
      "image/png": "[encoded data removed]",
      "text/plain": [
       "<Figure size 432x288 with 1 Axes>"
      ]
     },
     "metadata": {
      "needs_background": "light"
     },
     "output_type": "display_data"
    }
   ],
   "source": [
    "plt.figure(figsize=(6,4))\n",
    "\n",
    "for model_name in model_dict.keys():\n",
    "    model = model_list[model_name]\n",
    "    # estimate Y\n",
    "    if model_name in ['RandomForest', 'SVM']:\n",
    "        final_model = LogisticRegressionCV(Cs=20,cv=5)\n",
    "        if model_name == 'SVM':\n",
    "            Yhat_train = model.decision_function(Xtrain)\n",
    "            Yhat = model.decision_function(Xtest)\n",
    "        else:\n",
    "            Yhat_train = model.predict_proba(Xtrain)[:,1]\n",
    "            Yhat = model.predict_proba(Xtest)[:,1]\n",
    "            \n",
    "        final_model.fit(Yhat_train.reshape(-1, 1), Ytrain)\n",
    "        Yhat  = final_model.predict_proba(Yhat.reshape(-1,1))[:,1]\n",
    "        Ypred = final_model.predict(Yhat.reshape(-1,1))\n",
    "    else:\n",
    "        Yhat = model.predict_proba(Xtest)[:,1]\n",
    "        Ypred = model.predict(Xtest)\n",
    "    \n",
    "    \n",
    "    fpr, tpr, thr = metrics.roc_curve(Ytest, Yhat)\n",
    "    auc = metrics.roc_auc_score(Ytest, Yhat)\n",
    "    f1 = metrics.f1_score(Ytest, Ypred)\n",
    "    label = model_name # + \" AUC: %.3f - F1: %.3f\"%(auc, f1)\n",
    "    plt.plot(fpr, tpr, '-', lw=2, label=label)\n",
    "\n",
    "    \n",
    "plt.legend()\n",
    "plt.title('Classificador de Manutenção')\n",
    "plt.grid()\n",
    "plt.xlabel('Taxa de Falso Alarme')\n",
    "plt.ylabel('Taxa de Detecção')"
   ]
  },
  {
   "cell_type": "markdown",
   "metadata": {},
   "source": [
    "### <span style=\"color:MediumSlateBlue\"> **5.Distribuição de Probabilidades do Modelo** </span>"
   ]
  },
  {
   "cell_type": "code",
   "execution_count": 9,
   "metadata": {},
   "outputs": [
    {
     "data": {
      "text/plain": [
       "<matplotlib.legend.Legend at 0x21a5da17408>"
      ]
     },
     "execution_count": 9,
     "metadata": {},
     "output_type": "execute_result"
    },
    {
     "data": {
      "image/png": "[encoded data removed]",
      "text/plain": [
       "<Figure size 432x288 with 1 Axes>"
      ]
     },
     "metadata": {
      "needs_background": "light"
     },
     "output_type": "display_data"
    }
   ],
   "source": [
    "model_name = 'LogisticRegr'\n",
    "model = model_list[model_name]\n",
    "Yhat = model.predict_proba(Xtest)[:,1]\n",
    "\n",
    "for i in [False, True]:\n",
    "    # 2 Classes case\n",
    "    sns.distplot(Yhat[np.array(Ytest) == i], label=['NEG','POS'][i])\n",
    "\n",
    "plt.title(model_name)\n",
    "plt.ylabel('Densidade Estimada KDE')\n",
    "plt.xlabel('Probabilidade Sentimento Positivo')\n",
    "plt.grid()\n",
    "plt.legend()"
   ]
  },
  {
   "cell_type": "markdown",
   "metadata": {},
   "source": [
    "### <span style=\"color:MediumSlateBlue\"> **6.Matriz de Confusão** </span>"
   ]
  },
  {
   "cell_type": "code",
   "execution_count": 10,
   "metadata": {},
   "outputs": [
    {
     "data": {
      "text/html": [
       "<div>\n",
       "<style scoped>\n",
       "    .dataframe tbody tr th:only-of-type {\n",
       "        vertical-align: middle;\n",
       "    }\n",
       "\n",
       "    .dataframe tbody tr th {\n",
       "        vertical-align: top;\n",
       "    }\n",
       "\n",
       "    .dataframe thead th {\n",
       "        text-align: right;\n",
       "    }\n",
       "</style>\n",
       "<table border=\"1\" class=\"dataframe\">\n",
       "  <thead>\n",
       "    <tr style=\"text-align: right;\">\n",
       "      <th></th>\n",
       "      <th>Model Neg</th>\n",
       "      <th>Model Pos</th>\n",
       "      <th>Real Total</th>\n",
       "    </tr>\n",
       "  </thead>\n",
       "  <tbody>\n",
       "    <tr>\n",
       "      <th>Real Neg</th>\n",
       "      <td>900</td>\n",
       "      <td>96</td>\n",
       "      <td>996</td>\n",
       "    </tr>\n",
       "    <tr>\n",
       "      <th>Real Pos</th>\n",
       "      <td>103</td>\n",
       "      <td>641</td>\n",
       "      <td>744</td>\n",
       "    </tr>\n",
       "    <tr>\n",
       "      <th>Model Total</th>\n",
       "      <td>1003</td>\n",
       "      <td>737</td>\n",
       "      <td>1740</td>\n",
       "    </tr>\n",
       "  </tbody>\n",
       "</table>\n",
       "</div>"
      ],
      "text/plain": [
       "             Model Neg  Model Pos  Real Total\n",
       "Real Neg           900         96         996\n",
       "Real Pos           103        641         744\n",
       "Model Total       1003        737        1740"
      ]
     },
     "execution_count": 10,
     "metadata": {},
     "output_type": "execute_result"
    }
   ],
   "source": [
    "model_name = 'LogisticRegr'\n",
    "\n",
    "\n",
    "model = model_list[model_name]\n",
    "Ypred = model.predict(Xtest)\n",
    "\n",
    "col_names = ['Model ' + s for s in ['Neg','Pos']]\n",
    "idx_names = ['Real ' + s for s in ['Neg','Pos']]\n",
    "\n",
    "cmat = metrics.confusion_matrix(Ytest, Ypred)\n",
    "cmat = pd.DataFrame(cmat, index=idx_names,\n",
    "                              columns=col_names)\n",
    "cmat['Real Total'] = cmat.sum(axis=1)\n",
    "cmat.loc['Model Total',:] = cmat.sum(axis=0)\n",
    "cmat = cmat.astype(int)\n",
    "cmat\n"
   ]
  },
  {
   "cell_type": "code",
   "execution_count": 11,
   "metadata": {},
   "outputs": [
    {
     "name": "stdout",
     "output_type": "stream",
     "text": [
      "              precision    recall  f1-score   support\n",
      "\n",
      "       False       0.90      0.90      0.90       996\n",
      "        True       0.87      0.86      0.87       744\n",
      "\n",
      "    accuracy                           0.89      1740\n",
      "   macro avg       0.88      0.88      0.88      1740\n",
      "weighted avg       0.89      0.89      0.89      1740\n",
      "\n"
     ]
    }
   ],
   "source": [
    "print(metrics.classification_report(Ytest, Ypred))"
   ]
  },
  {
   "cell_type": "markdown",
   "metadata": {},
   "source": [
    "### <span style=\"color:MediumSlateBlue\"> **7.Coeficientes de Regressão** </span>"
   ]
  },
  {
   "cell_type": "code",
   "execution_count": 12,
   "metadata": {},
   "outputs": [
    {
     "data": {
      "text/plain": [
       "Text(0.5, 0, 'Coeficiente')"
      ]
     },
     "execution_count": 12,
     "metadata": {},
     "output_type": "execute_result"
    },
    {
     "data": {
      "image/png": "[encoded data removed]",
      "text/plain": [
       "<Figure size 432x288 with 1 Axes>"
      ]
     },
     "metadata": {
      "needs_background": "light"
     },
     "output_type": "display_data"
    }
   ],
   "source": [
    "plt.figure(figsize=(6,4))\n",
    "\n",
    "nshow = 10\n",
    "model_name = 'LogisticRegr'\n",
    "model = model_list[model_name].best_estimator_.steps[1][1]\n",
    "vocabulary = model_list[model_name].best_estimator_.steps[0][1].vocabulary_\n",
    "vocabulary = np.array(list(vocabulary.keys()))\n",
    "\n",
    "coefs = model.coef_[0]\n",
    "\n",
    "idx = np.argsort(np.abs(coefs))[-nshow:]\n",
    "\n",
    "yaxis = np.arange(nshow)\n",
    "\n",
    "\n",
    "plt.barh(yaxis, coefs[idx])\n",
    "plt.yticks(yaxis, vocabulary[idx])\n",
    "\n",
    "plt.title('Coeficientes da Regressão')\n",
    "plt.xlabel('Coeficiente')\n"
   ]
  },
  {
   "cell_type": "markdown",
   "metadata": {},
   "source": [
    "### <span style=\"color:MediumSlateBlue\"> **8.Explicação pela Árvore de Decisão** </span>"
   ]
  },
  {
   "cell_type": "code",
   "execution_count": 13,
   "metadata": {},
   "outputs": [
    {
     "data": {
      "text/plain": [
       "Text(0.5, 0, 'Importância Relativa')"
      ]
     },
     "execution_count": 13,
     "metadata": {},
     "output_type": "execute_result"
    },
    {
     "data": {
      "image/png": "[encoded data removed]",
      "text/plain": [
       "<Figure size 432x288 with 1 Axes>"
      ]
     },
     "metadata": {
      "needs_background": "light"
     },
     "output_type": "display_data"
    }
   ],
   "source": [
    "plt.figure(figsize=(6,4))\n",
    "\n",
    "nshow = 10\n",
    "model_name = 'RandomForest'\n",
    "model = model_list[model_name].best_estimator_.steps[1][1]\n",
    "vocabulary = model_list[model_name].best_estimator_.steps[0][1].vocabulary_\n",
    "vocabulary = np.array(list(vocabulary.keys()))\n",
    "\n",
    "coefs = model.feature_importances_\n",
    "\n",
    "idx = np.argsort(np.abs(coefs))[-nshow:]\n",
    "\n",
    "yaxis = np.arange(nshow)\n",
    "\n",
    "\n",
    "plt.barh(yaxis, coefs[idx])\n",
    "plt.yticks(yaxis, vocabulary[idx])\n",
    "\n",
    "plt.title(model_name + '  - Importância Features')\n",
    "\n",
    "plt.xlabel('Importância Relativa')"
   ]
  },
  {
   "cell_type": "markdown",
   "metadata": {},
   "source": [
    "### <span style=\"color:MediumSlateBlue\"> **9.Exportação do Resultado** </span>"
   ]
  },
  {
   "cell_type": "code",
   "execution_count": 14,
   "metadata": {},
   "outputs": [
    {
     "data": {
      "text/html": [
       "<div>\n",
       "<style scoped>\n",
       "    .dataframe tbody tr th:only-of-type {\n",
       "        vertical-align: middle;\n",
       "    }\n",
       "\n",
       "    .dataframe tbody tr th {\n",
       "        vertical-align: top;\n",
       "    }\n",
       "\n",
       "    .dataframe thead th {\n",
       "        text-align: right;\n",
       "    }\n",
       "</style>\n",
       "<table border=\"1\" class=\"dataframe\">\n",
       "  <thead>\n",
       "    <tr style=\"text-align: right;\">\n",
       "      <th></th>\n",
       "      <th>text</th>\n",
       "      <th>class</th>\n",
       "      <th>RandomForest</th>\n",
       "      <th>LogisticRegr</th>\n",
       "      <th>kNN</th>\n",
       "      <th>SVM</th>\n",
       "    </tr>\n",
       "  </thead>\n",
       "  <tbody>\n",
       "    <tr>\n",
       "      <th>0</th>\n",
       "      <td>REALIZAR TESTES PONTO-A-PONTO COM O ONS</td>\n",
       "      <td>False</td>\n",
       "      <td>0.40995643759372186</td>\n",
       "      <td>0.6220992172301747</td>\n",
       "      <td>0.3871165070110641</td>\n",
       "      <td>0.2858912768103344</td>\n",
       "    </tr>\n",
       "    <tr>\n",
       "      <th>1</th>\n",
       "      <td>COLOCAR ESFÉRAS DE SINALIZAÇÃO AÉREA</td>\n",
       "      <td>True</td>\n",
       "      <td>0.7396907236011178</td>\n",
       "      <td>0.9729507333741643</td>\n",
       "      <td>1.0</td>\n",
       "      <td>0.5496463115916804</td>\n",
       "    </tr>\n",
       "    <tr>\n",
       "      <th>2</th>\n",
       "      <td>REVISÃO GERAL NA SECCIONADORA  751.</td>\n",
       "      <td>False</td>\n",
       "      <td>0.40995643759372186</td>\n",
       "      <td>0.36674980341848834</td>\n",
       "      <td>0.5833066313955533</td>\n",
       "      <td>0.5882115485551436</td>\n",
       "    </tr>\n",
       "    <tr>\n",
       "      <th>3</th>\n",
       "      <td>MANUTENÇÃO CORRETIVA DA UTR. DEVIDO A PROBLEMA...</td>\n",
       "      <td>False</td>\n",
       "      <td>0.40995643759372186</td>\n",
       "      <td>0.021485340185561867</td>\n",
       "      <td>0.11283831039819053</td>\n",
       "      <td>0.2443180639600465</td>\n",
       "    </tr>\n",
       "    <tr>\n",
       "      <th>4</th>\n",
       "      <td>MANUTENÇÃO PREVENTIVA DA LINHA DE CARVÃO PULV...</td>\n",
       "      <td>True</td>\n",
       "      <td>0.7955010205689604</td>\n",
       "      <td>0.9856583473262293</td>\n",
       "      <td>1.0</td>\n",
       "      <td>0.7394794129920167</td>\n",
       "    </tr>\n",
       "  </tbody>\n",
       "</table>\n",
       "</div>"
      ],
      "text/plain": [
       "                                                text  class  \\\n",
       "0            REALIZAR TESTES PONTO-A-PONTO COM O ONS  False   \n",
       "1               COLOCAR ESFÉRAS DE SINALIZAÇÃO AÉREA   True   \n",
       "2                REVISÃO GERAL NA SECCIONADORA  751.  False   \n",
       "3  MANUTENÇÃO CORRETIVA DA UTR. DEVIDO A PROBLEMA...  False   \n",
       "4   MANUTENÇÃO PREVENTIVA DA LINHA DE CARVÃO PULV...   True   \n",
       "\n",
       "          RandomForest          LogisticRegr                  kNN  \\\n",
       "0  0.40995643759372186    0.6220992172301747   0.3871165070110641   \n",
       "1   0.7396907236011178    0.9729507333741643                  1.0   \n",
       "2  0.40995643759372186   0.36674980341848834   0.5833066313955533   \n",
       "3  0.40995643759372186  0.021485340185561867  0.11283831039819053   \n",
       "4   0.7955010205689604    0.9856583473262293                  1.0   \n",
       "\n",
       "                  SVM  \n",
       "0  0.2858912768103344  \n",
       "1  0.5496463115916804  \n",
       "2  0.5882115485551436  \n",
       "3  0.2443180639600465  \n",
       "4  0.7394794129920167  "
      ]
     },
     "execution_count": 14,
     "metadata": {},
     "output_type": "execute_result"
    }
   ],
   "source": [
    "model_name = 'LogisticRegr'\n",
    "\n",
    "test_data = [Xtest, Ytest,]\n",
    "df_cols = ['text', 'class'] \n",
    "for model_name in model_dict.keys():\n",
    "    model = model_list[model_name]\n",
    "    if model_name in ['RandomForest', 'SVM']:\n",
    "        final_model = LogisticRegressionCV(Cs=20,cv=5)\n",
    "        if model_name == 'SVM':\n",
    "            Yhat_train = model.decision_function(Xtrain)\n",
    "            Yhat = model.decision_function(Xtest)\n",
    "        else:\n",
    "            Yhat_train = model.predict_proba(Xtrain)[:,1]\n",
    "            Yhat = model.predict_proba(Xtest)[:,1]\n",
    "            \n",
    "        final_model.fit(Yhat_train.reshape(-1, 1), Ytrain)\n",
    "        Yhat  = final_model.predict_proba(Yhat.reshape(-1,1))[:,1]\n",
    "    else:\n",
    "        Yhat = model.predict_proba(Xtest)[:,1]\n",
    "\n",
    "    test_data.append(Yhat)\n",
    "    df_cols.append(model_name)\n",
    "        \n",
    "test_data = np.array(test_data).T\n",
    "df_test = pd.DataFrame(data=test_data, columns=df_cols)\n",
    "\n",
    "df_test.to_excel('../../Data/Modeling/results.xlsx')\n",
    "\n",
    "df_test.head()"
   ]
  },
  {
   "cell_type": "code",
   "execution_count": null,
   "metadata": {},
   "outputs": [],
   "source": []
  }
 ],
 "metadata": {
  "kernelspec": {
   "display_name": "Python 3",
   "language": "python",
   "name": "python3"
  },
  "language_info": {
   "codemirror_mode": {
    "name": "ipython",
    "version": 3
   },
   "file_extension": ".py",
   "mimetype": "text/x-python",
   "name": "python",
   "nbconvert_exporter": "python",
   "pygments_lexer": "ipython3",
   "version": "3.7.6"
  }
 },
 "nbformat": 4,
 "nbformat_minor": 4
}
