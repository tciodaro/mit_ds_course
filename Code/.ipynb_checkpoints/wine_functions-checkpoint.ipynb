{
 "cells": [
  {
   "cell_type": "code",
   "execution_count": 7,
   "metadata": {},
   "outputs": [],
   "source": [
    "import pandas as pd\n",
    "import seaborn as sns\n",
    "import matplotlib.pyplot as plt\n",
    "from sklearn import model_selection\n",
    "\n",
    "def load_data(dropTipoVinho):\n",
    "    data = pd.read_csv('../Data/Processed/wine/bigTableWines.csv', sep=\";\")\n",
    "    if (dropTipoVinho):\n",
    "        data = data.drop('Tipo Vinho', axis=1)\n",
    "    return data\n",
    "\n",
    "def get_target_and_classifier_and_classes_variables(data):\n",
    "    target_variable = ['quality']\n",
    "    classifier_variables = data.columns.drop(target_variable)\n",
    "    classes=['baixa qualidade','alta qualidade']\n",
    "    return target_variable, classifier_variables, classes\n",
    "    \n",
    "def validacao_cruzada(data, target_variable, classifier_variables):\n",
    "    xData = data[classifier_variables].values\n",
    "    yData = data[target_variable].values\n",
    "\n",
    "    idx = yData > 5\n",
    "    yData[idx] = 1\n",
    "    yData[~idx]= 0\n",
    "\n",
    "    # Dividir 20% dos dados para o conjunto out-of-sample de teste\n",
    "    Xtrain, Xtest, Ytrain, Ytest = model_selection.train_test_split(xData, yData, test_size=0.2, random_state=0, stratify=yData)\n",
    "\n",
    "    # Objeto de validacao cruzada\n",
    "    cvfold = model_selection.StratifiedKFold(n_splits = 10, random_state = 0)\n",
    "    \n",
    "    return Xtrain, Xtest, Ytrain, Ytest, cvfold\n",
    "\n",
    "def aplicar_modelo(model_pipe, Xtest):\n",
    "    decision_threshold = 0.535\n",
    "    Yhat = model_pipe.predict_proba(Xtest)[:,1]\n",
    "    Ypred= Yhat >= decision_threshold\n",
    "    print('Yhat.shape:', Yhat.shape)\n",
    "    return Yhat, Ypred\n",
    "\n",
    "def exibir_distribuicao(descricaoModelo, classes, Yhat, Ytest):\n",
    "    for i in range(len(classes)):\n",
    "        sns.distplot(Yhat[Ytest[:,0] == i], label=classes[i])\n",
    "    plt.title(descricaoModelo)\n",
    "    plt.ylabel('Densidade Estimada KDE')\n",
    "    plt.xlabel('Probabilidade Vinho Alta Qualidade')\n",
    "    plt.grid()\n",
    "    plt.legend()\n",
    "    "
   ]
  },
  {
   "cell_type": "code",
   "execution_count": null,
   "metadata": {},
   "outputs": [],
   "source": []
  }
 ],
 "metadata": {
  "kernelspec": {
   "display_name": "Python 3",
   "language": "python",
   "name": "python3"
  },
  "language_info": {
   "codemirror_mode": {
    "name": "ipython",
    "version": 3
   },
   "file_extension": ".py",
   "mimetype": "text/x-python",
   "name": "python",
   "nbconvert_exporter": "python",
   "pygments_lexer": "ipython3",
   "version": "3.7.4"
  }
 },
 "nbformat": 4,
 "nbformat_minor": 4
}
