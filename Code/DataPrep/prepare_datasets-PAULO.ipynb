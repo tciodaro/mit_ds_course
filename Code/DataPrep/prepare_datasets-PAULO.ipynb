{
 "cells": [
  {
   "cell_type": "code",
   "execution_count": null,
   "metadata": {},
   "outputs": [],
   "source": [
    "import pandas\n",
    "import os\n",
    "import matplotlib.pyplot as plt\n",
    "import seaborn as sns\n",
    "\n",
    "data_directory = '../../Data/Raw/airbnb/'\n",
    "output_directory='../../Data/Processed/airbnb/'"
   ]
  },
  {
   "cell_type": "markdown",
   "metadata": {},
   "source": [
    "# Load Data "
   ]
  },
  {
   "cell_type": "code",
   "execution_count": null,
   "metadata": {},
   "outputs": [],
   "source": [
    "#Colocando o caminho do arquivo csv em uma variável.\n",
    "airbnb_file = data_directory + '/airbnb_queens_2019.csv'\n",
    "\n",
    "#Importando o arquivo csv para um DataFrame.\n",
    "df_airbnb = pandas.read_csv(airbnb_file)\n",
    "\n",
    "#Retirando as colunas desnecessárias para a análise. (neighbourhood_group)\n",
    "#Axis = 1 representa coluna e inplace é para retirar do datafreme original.\n",
    "df_airbnb.drop(['name','id','host_name','last_review','neighbourhood_group'], axis = 1, inplace = True)\n",
    "\n",
    "\n",
    "#Printando o shape do DF\n",
    "print('Airbnb: ', df_airbnb.shape)"
   ]
  },
  {
   "cell_type": "code",
   "execution_count": null,
   "metadata": {},
   "outputs": [],
   "source": [
    "#Verificando quantos registros nulos existem em cada coluna.\n",
    "print(df_airbnb.isna().sum())"
   ]
  },
  {
   "cell_type": "markdown",
   "metadata": {},
   "source": [
    "# AIRBNB"
   ]
  },
  {
   "cell_type": "code",
   "execution_count": null,
   "metadata": {},
   "outputs": [],
   "source": [
    "df_airbnb.dtypes"
   ]
  },
  {
   "cell_type": "markdown",
   "metadata": {},
   "source": [
    "# Fill NaN Values "
   ]
  },
  {
   "cell_type": "code",
   "execution_count": null,
   "metadata": {},
   "outputs": [],
   "source": [
    "#Colocando em um dicionário as colunas que estavam com valor NaN e setando 0 para elas.\n",
    "nan_rule = {'reviews_per_month': 0,}\n",
    "\n",
    "#Percorrendo os dicionário e mudando os valores nulos das colunas por zero do DataFrame.\n",
    "for cname, rule in nan_rule.items():\n",
    "    df_airbnb.loc[:, cname] = df_airbnb[cname].fillna(rule)\\\n",
    "    \n",
    "print(df_airbnb.shape)"
   ]
  },
  {
   "cell_type": "code",
   "execution_count": null,
   "metadata": {},
   "outputs": [],
   "source": [
    "df_airbnb.describe()"
   ]
  },
  {
   "cell_type": "markdown",
   "metadata": {},
   "source": [
    "# Numeric Variables "
   ]
  },
  {
   "cell_type": "code",
   "execution_count": null,
   "metadata": {},
   "outputs": [],
   "source": [
    "num_variables = ['latitude', 'longitude', 'price','minimum_nights','number_of_reviews','reviews_per_month',\n",
    "                 'calculated_host_listings_count','availability_365']\n",
    "\n",
    "for cname in num_variables:\n",
    "    df_airbnb[cname] = df_airbnb[cname].astype(float, errors='ignore').fillna(0)"
   ]
  },
  {
   "cell_type": "markdown",
   "metadata": {},
   "source": [
    "# Categorical Variables "
   ]
  },
  {
   "cell_type": "code",
   "execution_count": null,
   "metadata": {},
   "outputs": [],
   "source": [
    "cat_variables = ['neighbourhood','room_type']\n",
    "\n",
    "for cname in cat_variables:\n",
    "    df_airbnb[cname] = df_airbnb[cname].astype(str)"
   ]
  },
  {
   "cell_type": "markdown",
   "metadata": {},
   "source": [
    "# Prepared Data "
   ]
  },
  {
   "cell_type": "markdown",
   "metadata": {},
   "source": [
    "## Features "
   ]
  },
  {
   "cell_type": "code",
   "execution_count": null,
   "metadata": {},
   "outputs": [],
   "source": [
    "df_airbnb.head()"
   ]
  },
  {
   "cell_type": "markdown",
   "metadata": {},
   "source": [
    "# Export Data"
   ]
  },
  {
   "cell_type": "code",
   "execution_count": null,
   "metadata": {},
   "outputs": [],
   "source": [
    "help(os.makedirs)"
   ]
  },
  {
   "cell_type": "code",
   "execution_count": null,
   "metadata": {},
   "outputs": [],
   "source": [
    "os.makedirs(output_directory, exist_ok=True)\n",
    "\n",
    "airbnb_file = output_directory + '/airbnb.parquet'\n",
    "\n",
    "# read features\n",
    "df_airbnb.to_parquet(airbnb_file)"
   ]
  },
  {
   "cell_type": "code",
   "execution_count": null,
   "metadata": {},
   "outputs": [],
   "source": []
  }
 ],
 "metadata": {
  "kernelspec": {
   "display_name": "Python 2",
   "language": "python",
   "name": "python2"
  },
  "language_info": {
   "codemirror_mode": {
    "name": "ipython",
    "version": 2
   },
   "file_extension": ".py",
   "mimetype": "text/x-python",
   "name": "python",
   "nbconvert_exporter": "python",
   "pygments_lexer": "ipython2",
   "version": "2.7.16"
  }
 },
 "nbformat": 4,
 "nbformat_minor": 4
}
