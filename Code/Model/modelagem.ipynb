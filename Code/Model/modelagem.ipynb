{
 "cells": [
  {
   "cell_type": "code",
   "execution_count": 155,
   "metadata": {},
   "outputs": [],
   "source": [
    "import pandas as pd\n",
    "import numpy as np\n",
    "import matplotlib. pyplot as plt\n",
    "import seaborn as sns\n",
    "from sklearn import preprocessing\n",
    "from sklearn.preprocessing import StandardScaler\n",
    "from sklearn.preprocessing import Normalizer\n",
    "from sklearn.preprocessing import Binarizer\n",
    "from sklearn.preprocessing import LabelBinarizer\n",
    "\n",
    "\n",
    "\n",
    "pd.set_option(\"display.precision\", 2)\n",
    "\n",
    "input_table = '../../Data/Processed/USA_housing/housing.parquet'\n",
    "\n",
    "test_var = 'price'\n"
   ]
  },
  {
   "cell_type": "markdown",
   "metadata": {},
   "source": [
    "# Carregar dados "
   ]
  },
  {
   "cell_type": "code",
   "execution_count": 156,
   "metadata": {},
   "outputs": [
    {
     "name": "stdout",
     "output_type": "stream",
     "text": [
      "data shape: (5000, 6)\n",
      "data columns: ['Avg. Area Income', 'Avg. Area House Age', 'Avg. Area Number of Rooms', 'Avg. Area Number of Bedrooms', 'Area Population', 'Price']\n"
     ]
    },
    {
     "data": {
      "text/html": [
       "<div>\n",
       "<style scoped>\n",
       "    .dataframe tbody tr th:only-of-type {\n",
       "        vertical-align: middle;\n",
       "    }\n",
       "\n",
       "    .dataframe tbody tr th {\n",
       "        vertical-align: top;\n",
       "    }\n",
       "\n",
       "    .dataframe thead th {\n",
       "        text-align: right;\n",
       "    }\n",
       "</style>\n",
       "<table border=\"1\" class=\"dataframe\">\n",
       "  <thead>\n",
       "    <tr style=\"text-align: right;\">\n",
       "      <th></th>\n",
       "      <th>Avg. Area Income</th>\n",
       "      <th>Avg. Area House Age</th>\n",
       "      <th>Avg. Area Number of Rooms</th>\n",
       "      <th>Avg. Area Number of Bedrooms</th>\n",
       "      <th>Area Population</th>\n",
       "      <th>Price</th>\n",
       "    </tr>\n",
       "  </thead>\n",
       "  <tbody>\n",
       "    <tr>\n",
       "      <th>0</th>\n",
       "      <td>79545.46</td>\n",
       "      <td>5.68</td>\n",
       "      <td>7.01</td>\n",
       "      <td>4.09</td>\n",
       "      <td>23086.80</td>\n",
       "      <td>1.06e+06</td>\n",
       "    </tr>\n",
       "    <tr>\n",
       "      <th>1</th>\n",
       "      <td>79248.64</td>\n",
       "      <td>6.00</td>\n",
       "      <td>6.73</td>\n",
       "      <td>3.09</td>\n",
       "      <td>40173.07</td>\n",
       "      <td>1.51e+06</td>\n",
       "    </tr>\n",
       "    <tr>\n",
       "      <th>2</th>\n",
       "      <td>61287.07</td>\n",
       "      <td>5.87</td>\n",
       "      <td>8.51</td>\n",
       "      <td>5.13</td>\n",
       "      <td>36882.16</td>\n",
       "      <td>1.06e+06</td>\n",
       "    </tr>\n",
       "    <tr>\n",
       "      <th>3</th>\n",
       "      <td>63345.24</td>\n",
       "      <td>7.19</td>\n",
       "      <td>5.59</td>\n",
       "      <td>3.26</td>\n",
       "      <td>34310.24</td>\n",
       "      <td>1.26e+06</td>\n",
       "    </tr>\n",
       "    <tr>\n",
       "      <th>4</th>\n",
       "      <td>59982.20</td>\n",
       "      <td>5.04</td>\n",
       "      <td>7.84</td>\n",
       "      <td>4.23</td>\n",
       "      <td>26354.11</td>\n",
       "      <td>6.31e+05</td>\n",
       "    </tr>\n",
       "  </tbody>\n",
       "</table>\n",
       "</div>"
      ],
      "text/plain": [
       "   Avg. Area Income  Avg. Area House Age  Avg. Area Number of Rooms  \\\n",
       "0          79545.46                 5.68                       7.01   \n",
       "1          79248.64                 6.00                       6.73   \n",
       "2          61287.07                 5.87                       8.51   \n",
       "3          63345.24                 7.19                       5.59   \n",
       "4          59982.20                 5.04                       7.84   \n",
       "\n",
       "   Avg. Area Number of Bedrooms  Area Population     Price  \n",
       "0                          4.09         23086.80  1.06e+06  \n",
       "1                          3.09         40173.07  1.51e+06  \n",
       "2                          5.13         36882.16  1.06e+06  \n",
       "3                          3.26         34310.24  1.26e+06  \n",
       "4                          4.23         26354.11  6.31e+05  "
      ]
     },
     "execution_count": 156,
     "metadata": {},
     "output_type": "execute_result"
    }
   ],
   "source": [
    "data = pd.read_parquet(input_table)\n",
    "print('data shape:', data.shape)\n",
    "print('data columns:', data.columns.tolist())\n",
    "data.head()"
   ]
  },
  {
   "cell_type": "code",
   "execution_count": 157,
   "metadata": {},
   "outputs": [
    {
     "data": {
      "text/html": [
       "<div>\n",
       "<style scoped>\n",
       "    .dataframe tbody tr th:only-of-type {\n",
       "        vertical-align: middle;\n",
       "    }\n",
       "\n",
       "    .dataframe tbody tr th {\n",
       "        vertical-align: top;\n",
       "    }\n",
       "\n",
       "    .dataframe thead th {\n",
       "        text-align: right;\n",
       "    }\n",
       "</style>\n",
       "<table border=\"1\" class=\"dataframe\">\n",
       "  <thead>\n",
       "    <tr style=\"text-align: right;\">\n",
       "      <th></th>\n",
       "      <th>Avg. Area Income</th>\n",
       "      <th>Avg. Area House Age</th>\n",
       "      <th>Avg. Area Number of Rooms</th>\n",
       "      <th>Avg. Area Number of Bedrooms</th>\n",
       "      <th>Area Population</th>\n",
       "      <th>Price</th>\n",
       "    </tr>\n",
       "  </thead>\n",
       "  <tbody>\n",
       "    <tr>\n",
       "      <th>count</th>\n",
       "      <td>5000.00</td>\n",
       "      <td>5000.00</td>\n",
       "      <td>5000.00</td>\n",
       "      <td>5000.00</td>\n",
       "      <td>5000.00</td>\n",
       "      <td>5.00e+03</td>\n",
       "    </tr>\n",
       "    <tr>\n",
       "      <th>mean</th>\n",
       "      <td>68583.11</td>\n",
       "      <td>5.98</td>\n",
       "      <td>6.99</td>\n",
       "      <td>3.98</td>\n",
       "      <td>36163.52</td>\n",
       "      <td>1.23e+06</td>\n",
       "    </tr>\n",
       "    <tr>\n",
       "      <th>std</th>\n",
       "      <td>10657.99</td>\n",
       "      <td>0.99</td>\n",
       "      <td>1.01</td>\n",
       "      <td>1.23</td>\n",
       "      <td>9925.65</td>\n",
       "      <td>3.53e+05</td>\n",
       "    </tr>\n",
       "    <tr>\n",
       "      <th>min</th>\n",
       "      <td>17796.63</td>\n",
       "      <td>2.64</td>\n",
       "      <td>3.24</td>\n",
       "      <td>2.00</td>\n",
       "      <td>172.61</td>\n",
       "      <td>1.59e+04</td>\n",
       "    </tr>\n",
       "    <tr>\n",
       "      <th>25%</th>\n",
       "      <td>61480.56</td>\n",
       "      <td>5.32</td>\n",
       "      <td>6.30</td>\n",
       "      <td>3.14</td>\n",
       "      <td>29403.93</td>\n",
       "      <td>9.98e+05</td>\n",
       "    </tr>\n",
       "    <tr>\n",
       "      <th>50%</th>\n",
       "      <td>68804.29</td>\n",
       "      <td>5.97</td>\n",
       "      <td>7.00</td>\n",
       "      <td>4.05</td>\n",
       "      <td>36199.41</td>\n",
       "      <td>1.23e+06</td>\n",
       "    </tr>\n",
       "    <tr>\n",
       "      <th>75%</th>\n",
       "      <td>75783.34</td>\n",
       "      <td>6.65</td>\n",
       "      <td>7.67</td>\n",
       "      <td>4.49</td>\n",
       "      <td>42861.29</td>\n",
       "      <td>1.47e+06</td>\n",
       "    </tr>\n",
       "    <tr>\n",
       "      <th>max</th>\n",
       "      <td>107701.75</td>\n",
       "      <td>9.52</td>\n",
       "      <td>10.76</td>\n",
       "      <td>6.50</td>\n",
       "      <td>69621.71</td>\n",
       "      <td>2.47e+06</td>\n",
       "    </tr>\n",
       "  </tbody>\n",
       "</table>\n",
       "</div>"
      ],
      "text/plain": [
       "       Avg. Area Income  Avg. Area House Age  Avg. Area Number of Rooms  \\\n",
       "count           5000.00              5000.00                    5000.00   \n",
       "mean           68583.11                 5.98                       6.99   \n",
       "std            10657.99                 0.99                       1.01   \n",
       "min            17796.63                 2.64                       3.24   \n",
       "25%            61480.56                 5.32                       6.30   \n",
       "50%            68804.29                 5.97                       7.00   \n",
       "75%            75783.34                 6.65                       7.67   \n",
       "max           107701.75                 9.52                      10.76   \n",
       "\n",
       "       Avg. Area Number of Bedrooms  Area Population     Price  \n",
       "count                       5000.00          5000.00  5.00e+03  \n",
       "mean                           3.98         36163.52  1.23e+06  \n",
       "std                            1.23          9925.65  3.53e+05  \n",
       "min                            2.00           172.61  1.59e+04  \n",
       "25%                            3.14         29403.93  9.98e+05  \n",
       "50%                            4.05         36199.41  1.23e+06  \n",
       "75%                            4.49         42861.29  1.47e+06  \n",
       "max                            6.50         69621.71  2.47e+06  "
      ]
     },
     "execution_count": 157,
     "metadata": {},
     "output_type": "execute_result"
    }
   ],
   "source": [
    "data.describe()"
   ]
  },
  {
   "cell_type": "code",
   "execution_count": 158,
   "metadata": {},
   "outputs": [
    {
     "name": "stdout",
     "output_type": "stream",
     "text": [
      "<class 'pandas.core.frame.DataFrame'>\n",
      "RangeIndex: 5000 entries, 0 to 4999\n",
      "Data columns (total 6 columns):\n",
      " #   Column                        Non-Null Count  Dtype  \n",
      "---  ------                        --------------  -----  \n",
      " 0   Avg. Area Income              5000 non-null   float64\n",
      " 1   Avg. Area House Age           5000 non-null   float64\n",
      " 2   Avg. Area Number of Rooms     5000 non-null   float64\n",
      " 3   Avg. Area Number of Bedrooms  5000 non-null   float64\n",
      " 4   Area Population               5000 non-null   float64\n",
      " 5   Price                         5000 non-null   float64\n",
      "dtypes: float64(6)\n",
      "memory usage: 234.5 KB\n"
     ]
    }
   ],
   "source": [
    "data.info()"
   ]
  },
  {
   "cell_type": "code",
   "execution_count": 159,
   "metadata": {},
   "outputs": [
    {
     "data": {
      "text/html": [
       "<div>\n",
       "<style scoped>\n",
       "    .dataframe tbody tr th:only-of-type {\n",
       "        vertical-align: middle;\n",
       "    }\n",
       "\n",
       "    .dataframe tbody tr th {\n",
       "        vertical-align: top;\n",
       "    }\n",
       "\n",
       "    .dataframe thead th {\n",
       "        text-align: right;\n",
       "    }\n",
       "</style>\n",
       "<table border=\"1\" class=\"dataframe\">\n",
       "  <thead>\n",
       "    <tr style=\"text-align: right;\">\n",
       "      <th></th>\n",
       "      <th>Avg. Area Income</th>\n",
       "      <th>Avg. Area House Age</th>\n",
       "      <th>Avg. Area Number of Rooms</th>\n",
       "      <th>Avg. Area Number of Bedrooms</th>\n",
       "      <th>Area Population</th>\n",
       "      <th>Price</th>\n",
       "    </tr>\n",
       "  </thead>\n",
       "  <tbody>\n",
       "    <tr>\n",
       "      <th>0</th>\n",
       "      <td>79545.46</td>\n",
       "      <td>5.68</td>\n",
       "      <td>7.01</td>\n",
       "      <td>4.09</td>\n",
       "      <td>23086.80</td>\n",
       "      <td>1.06e+06</td>\n",
       "    </tr>\n",
       "    <tr>\n",
       "      <th>1</th>\n",
       "      <td>79248.64</td>\n",
       "      <td>6.00</td>\n",
       "      <td>6.73</td>\n",
       "      <td>3.09</td>\n",
       "      <td>40173.07</td>\n",
       "      <td>1.51e+06</td>\n",
       "    </tr>\n",
       "    <tr>\n",
       "      <th>2</th>\n",
       "      <td>61287.07</td>\n",
       "      <td>5.87</td>\n",
       "      <td>8.51</td>\n",
       "      <td>5.13</td>\n",
       "      <td>36882.16</td>\n",
       "      <td>1.06e+06</td>\n",
       "    </tr>\n",
       "    <tr>\n",
       "      <th>3</th>\n",
       "      <td>63345.24</td>\n",
       "      <td>7.19</td>\n",
       "      <td>5.59</td>\n",
       "      <td>3.26</td>\n",
       "      <td>34310.24</td>\n",
       "      <td>1.26e+06</td>\n",
       "    </tr>\n",
       "    <tr>\n",
       "      <th>4</th>\n",
       "      <td>59982.20</td>\n",
       "      <td>5.04</td>\n",
       "      <td>7.84</td>\n",
       "      <td>4.23</td>\n",
       "      <td>26354.11</td>\n",
       "      <td>6.31e+05</td>\n",
       "    </tr>\n",
       "  </tbody>\n",
       "</table>\n",
       "</div>"
      ],
      "text/plain": [
       "   Avg. Area Income  Avg. Area House Age  Avg. Area Number of Rooms  \\\n",
       "0          79545.46                 5.68                       7.01   \n",
       "1          79248.64                 6.00                       6.73   \n",
       "2          61287.07                 5.87                       8.51   \n",
       "3          63345.24                 7.19                       5.59   \n",
       "4          59982.20                 5.04                       7.84   \n",
       "\n",
       "   Avg. Area Number of Bedrooms  Area Population     Price  \n",
       "0                          4.09         23086.80  1.06e+06  \n",
       "1                          3.09         40173.07  1.51e+06  \n",
       "2                          5.13         36882.16  1.06e+06  \n",
       "3                          3.26         34310.24  1.26e+06  \n",
       "4                          4.23         26354.11  6.31e+05  "
      ]
     },
     "execution_count": 159,
     "metadata": {},
     "output_type": "execute_result"
    }
   ],
   "source": [
    "data.head()"
   ]
  },
  {
   "cell_type": "markdown",
   "metadata": {},
   "source": [
    "## Treinando o modelo de regressão linear\n",
    "\n",
    "Vamos agora começar a treinar o modelo de regressão! Primeiro, precisamos dividir nossos dados em uma matriz X que contém os recursos para treinar e uma matriz y com a variável de destino, neste caso a coluna Preço. Jogaremos fora a coluna Endereço, pois ela possui apenas informações de texto que o modelo de regressão linear não pode usar.\n",
    "\n",
    "### arrays X e y"
   ]
  },
  {
   "cell_type": "code",
   "execution_count": 160,
   "metadata": {},
   "outputs": [],
   "source": [
    "X = data[['Avg. Area Income', 'Avg. Area House Age', 'Avg. Area Number of Rooms',\n",
    "               'Avg. Area Number of Bedrooms', 'Area Population']]\n",
    "y = data['Price']"
   ]
  },
  {
   "cell_type": "markdown",
   "metadata": {},
   "source": [
    "## Train Test Split\n",
    "\n",
    "Now let's split the data into a training set and a testing set. We will train out model on the training set and then use the test set to evaluate the model."
   ]
  },
  {
   "cell_type": "code",
   "execution_count": 161,
   "metadata": {},
   "outputs": [],
   "source": [
    "from sklearn.model_selection import train_test_split"
   ]
  },
  {
   "cell_type": "code",
   "execution_count": 162,
   "metadata": {},
   "outputs": [],
   "source": [
    "X_train, X_test, y_train, y_test = train_test_split(X, y, test_size=0.4, random_state=101)"
   ]
  },
  {
   "cell_type": "markdown",
   "metadata": {},
   "source": [
    "## Criando e treinando o modelo"
   ]
  },
  {
   "cell_type": "code",
   "execution_count": 163,
   "metadata": {},
   "outputs": [],
   "source": [
    "from sklearn.linear_model import LinearRegression"
   ]
  },
  {
   "cell_type": "code",
   "execution_count": 164,
   "metadata": {},
   "outputs": [],
   "source": [
    "lm = LinearRegression()"
   ]
  },
  {
   "cell_type": "code",
   "execution_count": 165,
   "metadata": {},
   "outputs": [
    {
     "data": {
      "text/plain": [
       "LinearRegression(copy_X=True, fit_intercept=True, n_jobs=None, normalize=False)"
      ]
     },
     "execution_count": 165,
     "metadata": {},
     "output_type": "execute_result"
    }
   ],
   "source": [
    "lm.fit(X_train,y_train)"
   ]
  },
  {
   "cell_type": "markdown",
   "metadata": {},
   "source": [
    "## Avaliação do modelo\n",
    "\n",
    "Vamos avaliar o modelo verificando seus coeficientes e como podemos interpretá-los."
   ]
  },
  {
   "cell_type": "code",
   "execution_count": 166,
   "metadata": {},
   "outputs": [
    {
     "name": "stdout",
     "output_type": "stream",
     "text": [
      "-2640159.796851911\n"
     ]
    }
   ],
   "source": [
    "# imprimindo o coeficiente linear\n",
    "print(lm.intercept_)"
   ]
  },
  {
   "cell_type": "code",
   "execution_count": 167,
   "metadata": {
    "scrolled": true
   },
   "outputs": [
    {
     "data": {
      "text/html": [
       "<div>\n",
       "<style scoped>\n",
       "    .dataframe tbody tr th:only-of-type {\n",
       "        vertical-align: middle;\n",
       "    }\n",
       "\n",
       "    .dataframe tbody tr th {\n",
       "        vertical-align: top;\n",
       "    }\n",
       "\n",
       "    .dataframe thead th {\n",
       "        text-align: right;\n",
       "    }\n",
       "</style>\n",
       "<table border=\"1\" class=\"dataframe\">\n",
       "  <thead>\n",
       "    <tr style=\"text-align: right;\">\n",
       "      <th></th>\n",
       "      <th>Coeficiente</th>\n",
       "    </tr>\n",
       "  </thead>\n",
       "  <tbody>\n",
       "    <tr>\n",
       "      <th>Avg. Area Income</th>\n",
       "      <td>21.53</td>\n",
       "    </tr>\n",
       "    <tr>\n",
       "      <th>Avg. Area House Age</th>\n",
       "      <td>164883.28</td>\n",
       "    </tr>\n",
       "    <tr>\n",
       "      <th>Avg. Area Number of Rooms</th>\n",
       "      <td>122368.68</td>\n",
       "    </tr>\n",
       "    <tr>\n",
       "      <th>Avg. Area Number of Bedrooms</th>\n",
       "      <td>2233.80</td>\n",
       "    </tr>\n",
       "    <tr>\n",
       "      <th>Area Population</th>\n",
       "      <td>15.15</td>\n",
       "    </tr>\n",
       "  </tbody>\n",
       "</table>\n",
       "</div>"
      ],
      "text/plain": [
       "                              Coeficiente\n",
       "Avg. Area Income                    21.53\n",
       "Avg. Area House Age             164883.28\n",
       "Avg. Area Number of Rooms       122368.68\n",
       "Avg. Area Number of Bedrooms      2233.80\n",
       "Area Population                     15.15"
      ]
     },
     "execution_count": 167,
     "metadata": {},
     "output_type": "execute_result"
    }
   ],
   "source": [
    "coeff_df = pd.DataFrame(lm.coef_,X.columns,columns=['Coeficiente'])\n",
    "coeff_df"
   ]
  },
  {
   "cell_type": "markdown",
   "metadata": {},
   "source": [
    "Interpretando os coeficientes:\n",
    "\n",
    "- Mantendo todas as features fixas, aumento de uma unidade em **Avg. Area Income** está associada com **aumento de \\$21.53 **.\n",
    "- Mantendo todas as features fixas, aumento de uma unidade em **Avg. Area House Age** está associada com **aumento de \\$164883.28 **.\n",
    "- Mantendo todas as features fixas, aumento de uma unidade em **Avg. Area Number of Rooms** está associada com **aumento de \\$122368.68 **.\n",
    "- Mantendo todas as features fixas, aumento de uma unidade em **Avg. Area Number of Bedrooms** está associada com **aumento de \\$2233.80 **.\n",
    "- Mantendo todas as features fixas, aumento de uma unidade em **Area Population** está associada com **aumento de \\$15.15 **.\n",
    "\n"
   ]
  },
  {
   "cell_type": "markdown",
   "metadata": {},
   "source": [
    "## Predições do modelo\n",
    "\n"
   ]
  },
  {
   "cell_type": "code",
   "execution_count": 168,
   "metadata": {},
   "outputs": [],
   "source": [
    "predictions = lm.predict(X_test)"
   ]
  },
  {
   "cell_type": "code",
   "execution_count": 169,
   "metadata": {
    "scrolled": true
   },
   "outputs": [
    {
     "data": {
      "text/plain": [
       "<matplotlib.collections.PathCollection at 0x24499682288>"
      ]
     },
     "execution_count": 169,
     "metadata": {},
     "output_type": "execute_result"
    },
    {
     "data": {
      "image/png": "[encoded data removed]",
      "text/plain": [
       "<Figure size 432x288 with 1 Axes>"
      ]
     },
     "metadata": {
      "needs_background": "light"
     },
     "output_type": "display_data"
    }
   ],
   "source": [
    "plt.scatter(y_test,predictions)"
   ]
  },
  {
   "cell_type": "markdown",
   "metadata": {},
   "source": [
    "**Histograma residual**"
   ]
  },
  {
   "cell_type": "code",
   "execution_count": 170,
   "metadata": {},
   "outputs": [
    {
     "data": {
      "image/png": "[encoded data removed]",
      "text/plain": [
       "<Figure size 432x288 with 1 Axes>"
      ]
     },
     "metadata": {
      "needs_background": "light"
     },
     "output_type": "display_data"
    }
   ],
   "source": [
    "sns.distplot((y_test-predictions),bins=50);"
   ]
  },
  {
   "cell_type": "code",
   "execution_count": 171,
   "metadata": {
    "scrolled": true
   },
   "outputs": [
    {
     "data": {
      "text/plain": [
       "Text(0, 0.5, 'Preço das casas')"
      ]
     },
     "execution_count": 171,
     "metadata": {},
     "output_type": "execute_result"
    },
    {
     "data": {
      "image/png": "[encoded data removed]",
      "text/plain": [
       "<Figure size 864x576 with 1 Axes>"
      ]
     },
     "metadata": {
      "needs_background": "light"
     },
     "output_type": "display_data"
    }
   ],
   "source": [
    "# Valor predito e valor atual\n",
    "c = [i for i in range(1,2001,1)] # gerando índice \n",
    "fig = plt.figure(figsize=(12,8))\n",
    "plt.plot(c,y_test, color=\"blue\", linewidth=2.5, linestyle=\"-\") #Plotando valor atual\n",
    "plt.plot(c,predictions, color=\"red\",  linewidth=2.5, linestyle=\"-\") #Plotando valor predito\n",
    "fig.suptitle('Atual e predito', fontsize=15)              # Plot heading \n",
    "plt.xlabel('Índice', fontsize=18)                               # X-label\n",
    "plt.ylabel('Preço das casas', fontsize=16)                       # Y-label"
   ]
  },
  {
   "cell_type": "code",
   "execution_count": 172,
   "metadata": {},
   "outputs": [],
   "source": [
    "from sklearn import metrics"
   ]
  },
  {
   "cell_type": "code",
   "execution_count": 173,
   "metadata": {},
   "outputs": [
    {
     "name": "stdout",
     "output_type": "stream",
     "text": [
      "MAE: 82288.22251914957\n",
      "MSE: 10460958907.209501\n",
      "RMSE: 102278.82922291153\n"
     ]
    }
   ],
   "source": [
    "print('MAE:', metrics.mean_absolute_error(y_test, predictions))\n",
    "print('MSE:', metrics.mean_squared_error(y_test, predictions))\n",
    "print('RMSE:', np.sqrt(metrics.mean_squared_error(y_test, predictions)))"
   ]
  },
  {
   "cell_type": "code",
   "execution_count": null,
   "metadata": {},
   "outputs": [],
   "source": []
  }
 ],
 "metadata": {
  "kernelspec": {
   "display_name": "Python 3",
   "language": "python",
   "name": "python3"
  },
  "language_info": {
   "codemirror_mode": {
    "name": "ipython",
    "version": 3
   },
   "file_extension": ".py",
   "mimetype": "text/x-python",
   "name": "python",
   "nbconvert_exporter": "python",
   "pygments_lexer": "ipython3",
   "version": "3.7.6"
  }
 },
 "nbformat": 4,
 "nbformat_minor": 4
}
