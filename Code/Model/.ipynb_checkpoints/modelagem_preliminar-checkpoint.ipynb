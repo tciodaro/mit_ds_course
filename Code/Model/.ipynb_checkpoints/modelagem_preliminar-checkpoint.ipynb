{
 "cells": [
  {
   "cell_type": "code",
   "execution_count": null,
   "metadata": {},
   "outputs": [],
   "source": [
    "import pandas\n",
    "import numpy as np\n",
    "import seaborn as sns\n",
    "import matplotlib.pyplot as plt\n",
    "from sklearn import metrics\n",
    "from sklearn import model_selection\n",
    "from sklearn import preprocessing\n",
    "from sklearn import pipeline\n",
    "from sklearn.preprocessing import StandardScaler\n",
    "from sklearn.linear_model import LogisticRegression\n",
    "\n",
    "\n",
    "pandas.set_option(\"display.precision\", 2)\n",
    "\n",
    "datafile = '../../Data/Processed/wine/bigtable_data.parquet'\n",
    "\n",
    "feature_norm  = True\n",
    "\n",
    "target_variable = ['quality']\n",
    "classifier_variables = ['fixed acidity', 'volatile acidity', 'citric acid', 'residual sugar',\n",
    "                      'chlorides', 'free sulfur dioxide', 'total sulfur dioxide', 'density',\n",
    "                      'pH', 'sulphates', 'alcohol', 'red', 'white']\n",
    "\n",
    "#classifier_variables = ['fixed acidity', 'volatile acidity',\n",
    "#                      'free sulfur dioxide', 'total sulfur dioxide', 'density',\n",
    "#                      'pH', 'sulphates', 'alcohol']"
   ]
  },
  {
   "cell_type": "markdown",
   "metadata": {},
   "source": [
    "# Load Data "
   ]
  },
  {
   "cell_type": "code",
   "execution_count": null,
   "metadata": {},
   "outputs": [],
   "source": [
    "data = pandas.read_parquet(datafile)\n",
    "print('data shape:', data.shape)\n",
    "print('data columns:', data.columns.tolist())\n",
    "data.head()"
   ]
  },
  {
   "cell_type": "markdown",
   "metadata": {},
   "source": [
    "# Descrição dos Dados"
   ]
  },
  {
   "cell_type": "code",
   "execution_count": 37,
   "metadata": {},
   "outputs": [
    {
     "data": {
      "text/html": [
       "<div>\n",
       "<style scoped>\n",
       "    .dataframe tbody tr th:only-of-type {\n",
       "        vertical-align: middle;\n",
       "    }\n",
       "\n",
       "    .dataframe tbody tr th {\n",
       "        vertical-align: top;\n",
       "    }\n",
       "\n",
       "    .dataframe thead th {\n",
       "        text-align: right;\n",
       "    }\n",
       "</style>\n",
       "<table border=\"1\" class=\"dataframe\">\n",
       "  <thead>\n",
       "    <tr style=\"text-align: right;\">\n",
       "      <th></th>\n",
       "      <th>fixed acidity</th>\n",
       "      <th>volatile acidity</th>\n",
       "      <th>citric acid</th>\n",
       "      <th>residual sugar</th>\n",
       "      <th>chlorides</th>\n",
       "      <th>free sulfur dioxide</th>\n",
       "      <th>total sulfur dioxide</th>\n",
       "      <th>density</th>\n",
       "      <th>pH</th>\n",
       "      <th>sulphates</th>\n",
       "      <th>alcohol</th>\n",
       "      <th>quality</th>\n",
       "      <th>type</th>\n",
       "    </tr>\n",
       "  </thead>\n",
       "  <tbody>\n",
       "    <tr>\n",
       "      <th>count</th>\n",
       "      <td>6497.00</td>\n",
       "      <td>6497.00</td>\n",
       "      <td>6497.00</td>\n",
       "      <td>6497.00</td>\n",
       "      <td>6.50e+03</td>\n",
       "      <td>6497.00</td>\n",
       "      <td>6497.00</td>\n",
       "      <td>6.50e+03</td>\n",
       "      <td>6497.00</td>\n",
       "      <td>6497.00</td>\n",
       "      <td>6497.00</td>\n",
       "      <td>6497.00</td>\n",
       "      <td>6497.00</td>\n",
       "    </tr>\n",
       "    <tr>\n",
       "      <th>mean</th>\n",
       "      <td>7.22</td>\n",
       "      <td>0.34</td>\n",
       "      <td>0.32</td>\n",
       "      <td>5.44</td>\n",
       "      <td>5.60e-02</td>\n",
       "      <td>30.53</td>\n",
       "      <td>115.74</td>\n",
       "      <td>9.95e-01</td>\n",
       "      <td>3.22</td>\n",
       "      <td>0.53</td>\n",
       "      <td>10.49</td>\n",
       "      <td>5.82</td>\n",
       "      <td>0.75</td>\n",
       "    </tr>\n",
       "    <tr>\n",
       "      <th>std</th>\n",
       "      <td>1.30</td>\n",
       "      <td>0.16</td>\n",
       "      <td>0.15</td>\n",
       "      <td>4.76</td>\n",
       "      <td>3.50e-02</td>\n",
       "      <td>17.75</td>\n",
       "      <td>56.52</td>\n",
       "      <td>3.00e-03</td>\n",
       "      <td>0.16</td>\n",
       "      <td>0.15</td>\n",
       "      <td>1.19</td>\n",
       "      <td>0.87</td>\n",
       "      <td>0.43</td>\n",
       "    </tr>\n",
       "    <tr>\n",
       "      <th>min</th>\n",
       "      <td>3.80</td>\n",
       "      <td>0.08</td>\n",
       "      <td>0.00</td>\n",
       "      <td>0.60</td>\n",
       "      <td>9.00e-03</td>\n",
       "      <td>1.00</td>\n",
       "      <td>6.00</td>\n",
       "      <td>9.87e-01</td>\n",
       "      <td>2.72</td>\n",
       "      <td>0.22</td>\n",
       "      <td>8.00</td>\n",
       "      <td>3.00</td>\n",
       "      <td>0.00</td>\n",
       "    </tr>\n",
       "    <tr>\n",
       "      <th>25%</th>\n",
       "      <td>6.40</td>\n",
       "      <td>0.23</td>\n",
       "      <td>0.25</td>\n",
       "      <td>1.80</td>\n",
       "      <td>3.80e-02</td>\n",
       "      <td>17.00</td>\n",
       "      <td>77.00</td>\n",
       "      <td>9.92e-01</td>\n",
       "      <td>3.11</td>\n",
       "      <td>0.43</td>\n",
       "      <td>9.50</td>\n",
       "      <td>5.00</td>\n",
       "      <td>1.00</td>\n",
       "    </tr>\n",
       "    <tr>\n",
       "      <th>50%</th>\n",
       "      <td>7.00</td>\n",
       "      <td>0.29</td>\n",
       "      <td>0.31</td>\n",
       "      <td>3.00</td>\n",
       "      <td>4.70e-02</td>\n",
       "      <td>29.00</td>\n",
       "      <td>118.00</td>\n",
       "      <td>9.95e-01</td>\n",
       "      <td>3.21</td>\n",
       "      <td>0.51</td>\n",
       "      <td>10.30</td>\n",
       "      <td>6.00</td>\n",
       "      <td>1.00</td>\n",
       "    </tr>\n",
       "    <tr>\n",
       "      <th>75%</th>\n",
       "      <td>7.70</td>\n",
       "      <td>0.40</td>\n",
       "      <td>0.39</td>\n",
       "      <td>8.10</td>\n",
       "      <td>6.50e-02</td>\n",
       "      <td>41.00</td>\n",
       "      <td>156.00</td>\n",
       "      <td>9.97e-01</td>\n",
       "      <td>3.32</td>\n",
       "      <td>0.60</td>\n",
       "      <td>11.30</td>\n",
       "      <td>6.00</td>\n",
       "      <td>1.00</td>\n",
       "    </tr>\n",
       "    <tr>\n",
       "      <th>max</th>\n",
       "      <td>15.90</td>\n",
       "      <td>1.58</td>\n",
       "      <td>1.66</td>\n",
       "      <td>65.80</td>\n",
       "      <td>6.11e-01</td>\n",
       "      <td>289.00</td>\n",
       "      <td>440.00</td>\n",
       "      <td>1.04e+00</td>\n",
       "      <td>4.01</td>\n",
       "      <td>2.00</td>\n",
       "      <td>14.90</td>\n",
       "      <td>9.00</td>\n",
       "      <td>1.00</td>\n",
       "    </tr>\n",
       "  </tbody>\n",
       "</table>\n",
       "</div>"
      ],
      "text/plain": [
       "       fixed acidity  volatile acidity  citric acid  residual sugar  \\\n",
       "count        6497.00           6497.00      6497.00         6497.00   \n",
       "mean            7.22              0.34         0.32            5.44   \n",
       "std             1.30              0.16         0.15            4.76   \n",
       "min             3.80              0.08         0.00            0.60   \n",
       "25%             6.40              0.23         0.25            1.80   \n",
       "50%             7.00              0.29         0.31            3.00   \n",
       "75%             7.70              0.40         0.39            8.10   \n",
       "max            15.90              1.58         1.66           65.80   \n",
       "\n",
       "       chlorides  free sulfur dioxide  total sulfur dioxide   density  \\\n",
       "count   6.50e+03              6497.00               6497.00  6.50e+03   \n",
       "mean    5.60e-02                30.53                115.74  9.95e-01   \n",
       "std     3.50e-02                17.75                 56.52  3.00e-03   \n",
       "min     9.00e-03                 1.00                  6.00  9.87e-01   \n",
       "25%     3.80e-02                17.00                 77.00  9.92e-01   \n",
       "50%     4.70e-02                29.00                118.00  9.95e-01   \n",
       "75%     6.50e-02                41.00                156.00  9.97e-01   \n",
       "max     6.11e-01               289.00                440.00  1.04e+00   \n",
       "\n",
       "            pH  sulphates  alcohol  quality     type  \n",
       "count  6497.00    6497.00  6497.00  6497.00  6497.00  \n",
       "mean      3.22       0.53    10.49     5.82     0.75  \n",
       "std       0.16       0.15     1.19     0.87     0.43  \n",
       "min       2.72       0.22     8.00     3.00     0.00  \n",
       "25%       3.11       0.43     9.50     5.00     1.00  \n",
       "50%       3.21       0.51    10.30     6.00     1.00  \n",
       "75%       3.32       0.60    11.30     6.00     1.00  \n",
       "max       4.01       2.00    14.90     9.00     1.00  "
      ]
     },
     "execution_count": 37,
     "metadata": {},
     "output_type": "execute_result"
    }
   ],
   "source": [
    "data.describe()"
   ]
  },
  {
   "cell_type": "markdown",
   "metadata": {},
   "source": [
    "# Normalização"
   ]
  },
  {
   "cell_type": "code",
   "execution_count": 38,
   "metadata": {},
   "outputs": [
    {
     "name": "stderr",
     "output_type": "stream",
     "text": [
      "C:\\Users\\cammy\\anaconda3\\lib\\site-packages\\sklearn\\preprocessing\\_data.py:2982: RuntimeWarning: divide by zero encountered in log\n",
      "  loglike = -n_samples / 2 * np.log(x_trans.var())\n"
     ]
    }
   ],
   "source": [
    "if feature_norm:\n",
    "    data[classifier_variables] = preprocessing.power_transform(data[classifier_variables], method='yeo-johnson')"
   ]
  },
  {
   "cell_type": "markdown",
   "metadata": {},
   "source": [
    "# Pipeline de Treinamento"
   ]
  },
  {
   "cell_type": "code",
   "execution_count": 39,
   "metadata": {},
   "outputs": [
    {
     "name": "stderr",
     "output_type": "stream",
     "text": [
      "C:\\Users\\cammy\\anaconda3\\lib\\site-packages\\sklearn\\utils\\validation.py:760: DataConversionWarning: A column-vector y was passed when a 1d array was expected. Please change the shape of y to (n_samples, ), for example using ravel().\n",
      "  y = column_or_1d(y, warn=True)\n"
     ]
    },
    {
     "data": {
      "text/plain": [
       "Pipeline(memory=None,\n",
       "         steps=[('Scaler',\n",
       "                 StandardScaler(copy=True, with_mean=True, with_std=True)),\n",
       "                ('Model',\n",
       "                 LogisticRegression(C=1.0, class_weight=None, dual=False,\n",
       "                                    fit_intercept=True, intercept_scaling=1,\n",
       "                                    l1_ratio=None, max_iter=100,\n",
       "                                    multi_class='auto', n_jobs=None,\n",
       "                                    penalty='l2', random_state=0,\n",
       "                                    solver='lbfgs', tol=0.0001, verbose=0,\n",
       "                                    warm_start=False))],\n",
       "         verbose=False)"
      ]
     },
     "execution_count": 39,
     "metadata": {},
     "output_type": "execute_result"
    }
   ],
   "source": [
    "# Configure Pipeline\n",
    "conf_train_pipe = [\n",
    "    ('Scaler', StandardScaler()),\n",
    "    ('Model', LogisticRegression(random_state=0)),\n",
    "]\n",
    "\n",
    "# Create Pipeline\n",
    "model_pipe = pipeline.Pipeline(conf_train_pipe)\n",
    "\n",
    "# Train Pipeline\n",
    "X = data[classifier_variables].values\n",
    "Y = data[target_variable].values\n",
    "idx = Y > 5\n",
    "classes=['baixa qualidade','alta qualidade']\n",
    "Y[idx] = 1\n",
    "Y[~idx]= 0\n",
    "\n",
    "\n",
    "model_pipe.fit(X, Y)"
   ]
  },
  {
   "cell_type": "markdown",
   "metadata": {},
   "source": [
    "# Estimativa do modelo"
   ]
  },
  {
   "cell_type": "code",
   "execution_count": 40,
   "metadata": {},
   "outputs": [
    {
     "name": "stdout",
     "output_type": "stream",
     "text": [
      "Yhat.shape: (6497,)\n"
     ]
    }
   ],
   "source": [
    "Yhat = model_pipe.predict_proba(X)[:,1]\n",
    "Ypred= model_pipe.predict(X)\n",
    "print('Yhat.shape:', Yhat.shape)"
   ]
  },
  {
   "cell_type": "markdown",
   "metadata": {},
   "source": [
    "# Distribuições"
   ]
  },
  {
   "cell_type": "code",
   "execution_count": 41,
   "metadata": {},
   "outputs": [
    {
     "data": {
      "text/plain": [
       "<matplotlib.legend.Legend at 0x1e330211c88>"
      ]
     },
     "execution_count": 41,
     "metadata": {},
     "output_type": "execute_result"
    },
    {
     "data": {
      "image/png": "[encoded data removed]",
      "text/plain": [
       "<Figure size 432x288 with 1 Axes>"
      ]
     },
     "metadata": {
      "needs_background": "light"
     },
     "output_type": "display_data"
    }
   ],
   "source": [
    "for i in range(len(classes)):\n",
    "    # 2 Classes case\n",
    "    sns.distplot(Yhat[Y[:,0] == i], label=classes[i])\n",
    "\n",
    "plt.title('Regressão Logística')\n",
    "plt.ylabel('Densidade Estimada KDE')\n",
    "plt.xlabel('Probabilidade Vinho Alta Qualidade')\n",
    "plt.grid()\n",
    "plt.legend()"
   ]
  },
  {
   "cell_type": "markdown",
   "metadata": {},
   "source": [
    "# Curvas ROC"
   ]
  },
  {
   "cell_type": "code",
   "execution_count": 42,
   "metadata": {},
   "outputs": [
    {
     "data": {
      "text/plain": [
       "Text(0, 0.5, 'Taxa de Detecção')"
      ]
     },
     "execution_count": 42,
     "metadata": {},
     "output_type": "execute_result"
    },
    {
     "data": {
      "image/png": "[encoded data removed]",
      "text/plain": [
       "<Figure size 432x288 with 1 Axes>"
      ]
     },
     "metadata": {
      "needs_background": "light"
     },
     "output_type": "display_data"
    }
   ],
   "source": [
    "# help(metrics.roc_curve)\n",
    "plt.figure()\n",
    "fpr, tpr, thr = metrics.roc_curve(Y, Yhat)\n",
    "auc = metrics.roc_auc_score(Y, Yhat)\n",
    "plt.plot(fpr, tpr, '-', lw=2, label='AUC: %.2f'%(auc))\n",
    "plt.legend()\n",
    "plt.title('Classificador Vinhos de Alta Qualidade')\n",
    "plt.grid()\n",
    "plt.xlabel('Taxa de Falso Alarme')\n",
    "plt.ylabel('Taxa de Detecção')"
   ]
  },
  {
   "cell_type": "markdown",
   "metadata": {},
   "source": [
    "# Matriz de Confusão"
   ]
  },
  {
   "cell_type": "code",
   "execution_count": 43,
   "metadata": {},
   "outputs": [
    {
     "data": {
      "text/html": [
       "<div>\n",
       "<style scoped>\n",
       "    .dataframe tbody tr th:only-of-type {\n",
       "        vertical-align: middle;\n",
       "    }\n",
       "\n",
       "    .dataframe tbody tr th {\n",
       "        vertical-align: top;\n",
       "    }\n",
       "\n",
       "    .dataframe thead th {\n",
       "        text-align: right;\n",
       "    }\n",
       "</style>\n",
       "<table border=\"1\" class=\"dataframe\">\n",
       "  <thead>\n",
       "    <tr style=\"text-align: right;\">\n",
       "      <th></th>\n",
       "      <th>Model baixa qualidade</th>\n",
       "      <th>Model alta qualidade</th>\n",
       "      <th>Real Total</th>\n",
       "    </tr>\n",
       "  </thead>\n",
       "  <tbody>\n",
       "    <tr>\n",
       "      <th>Real baixa qualidade</th>\n",
       "      <td>1372</td>\n",
       "      <td>1012</td>\n",
       "      <td>2384</td>\n",
       "    </tr>\n",
       "    <tr>\n",
       "      <th>Real alta qualidade</th>\n",
       "      <td>638</td>\n",
       "      <td>3475</td>\n",
       "      <td>4113</td>\n",
       "    </tr>\n",
       "    <tr>\n",
       "      <th>Model Total</th>\n",
       "      <td>2010</td>\n",
       "      <td>4487</td>\n",
       "      <td>6497</td>\n",
       "    </tr>\n",
       "  </tbody>\n",
       "</table>\n",
       "</div>"
      ],
      "text/plain": [
       "                      Model baixa qualidade  Model alta qualidade  Real Total\n",
       "Real baixa qualidade                   1372                  1012        2384\n",
       "Real alta qualidade                     638                  3475        4113\n",
       "Model Total                            2010                  4487        6497"
      ]
     },
     "execution_count": 43,
     "metadata": {},
     "output_type": "execute_result"
    }
   ],
   "source": [
    "col_names = ['Model ' + s for s in classes]\n",
    "idx_names = ['Real ' + s for s in classes]\n",
    "\n",
    "cmat = metrics.confusion_matrix(Y, Ypred)\n",
    "cmat = pandas.DataFrame(cmat, index=idx_names,\n",
    "                              columns=col_names)\n",
    "cmat['Real Total'] = cmat.sum(axis=1)\n",
    "cmat.loc['Model Total',:] = cmat.sum(axis=0)\n",
    "cmat = cmat.astype(int)\n",
    "cmat"
   ]
  },
  {
   "cell_type": "markdown",
   "metadata": {},
   "source": [
    "# Classification Report"
   ]
  },
  {
   "cell_type": "code",
   "execution_count": 44,
   "metadata": {},
   "outputs": [
    {
     "name": "stdout",
     "output_type": "stream",
     "text": [
      "                 precision    recall  f1-score   support\n",
      "\n",
      "baixa qualidade       0.68      0.58      0.62      2384\n",
      " alta qualidade       0.77      0.84      0.81      4113\n",
      "\n",
      "       accuracy                           0.75      6497\n",
      "      macro avg       0.73      0.71      0.72      6497\n",
      "   weighted avg       0.74      0.75      0.74      6497\n",
      "\n"
     ]
    }
   ],
   "source": [
    "print(metrics.classification_report(Y, Ypred, target_names=classes))"
   ]
  },
  {
   "cell_type": "markdown",
   "metadata": {},
   "source": [
    "# Calibration Plot"
   ]
  },
  {
   "cell_type": "code",
   "execution_count": 45,
   "metadata": {},
   "outputs": [
    {
     "name": "stderr",
     "output_type": "stream",
     "text": [
      "C:\\Users\\cammy\\anaconda3\\lib\\site-packages\\sklearn\\utils\\validation.py:760: DataConversionWarning: A column-vector y was passed when a 1d array was expected. Please change the shape of y to (n_samples, ), for example using ravel().\n",
      "  y = column_or_1d(y, warn=True)\n"
     ]
    },
    {
     "data": {
      "image/png": "[encoded data removed]",
      "text/plain": [
       "<Figure size 432x288 with 1 Axes>"
      ]
     },
     "metadata": {
      "needs_background": "light"
     },
     "output_type": "display_data"
    }
   ],
   "source": [
    "from sklearn.calibration import CalibratedClassifierCV, calibration_curve\n",
    "\n",
    "# Calibrated with sigmoid calibration\n",
    "calib_sigmoid = CalibratedClassifierCV(model_pipe, cv=None, method='sigmoid')\n",
    "calib_sigmoid.fit(X,Y)\n",
    "Ypred_calib = calib_sigmoid.predict(X)\n",
    "Yhat_calib  = calib_sigmoid.predict_proba(X)[:,1]\n",
    "\n",
    "\n",
    "# Modelo perfeito\n",
    "plt.plot([0, 1], [0, 1], \"k:\", label=\"Perfectly calibrated\")\n",
    "\n",
    "# Modelo logistico puro\n",
    "clf_score = metrics.brier_score_loss(Y, Yhat, pos_label=1)\n",
    "fraction_of_positives, mean_predicted_value = calibration_curve(Y, Yhat, n_bins=10)\n",
    "plt.plot(mean_predicted_value, fraction_of_positives, \"s-\", label=\"Logistic (%1.3f)\" %clf_score)\n",
    "\n",
    "# Modelo calibrado\n",
    "clf_score = metrics.brier_score_loss(Y, Yhat_calib, pos_label=1)\n",
    "fraction_of_positives, mean_predicted_value = calibration_curve(Y, Yhat_calib, n_bins=10)\n",
    "plt.plot(mean_predicted_value, fraction_of_positives, \"s-\", label=\"Calibrado (%1.3f)\" %clf_score)\n",
    "\n",
    "\n",
    "plt.ylabel(\"Fração de Positivos Classificados\")\n",
    "plt.xlabel(\"Valor Médio Previsto de Positivos\")\n",
    "plt.ylim([-0.05, 1.05])\n",
    "plt.title('Curvas de Calibração')\n",
    "plt.legend()\n",
    "plt.grid()"
   ]
  },
  {
   "cell_type": "code",
   "execution_count": null,
   "metadata": {},
   "outputs": [],
   "source": []
  }
 ],
 "metadata": {
  "kernelspec": {
   "display_name": "Python 3",
   "language": "python",
   "name": "python3"
  },
  "language_info": {
   "codemirror_mode": {
    "name": "ipython",
    "version": 3
   },
   "file_extension": ".py",
   "mimetype": "text/x-python",
   "name": "python",
   "nbconvert_exporter": "python",
   "pygments_lexer": "ipython3",
   "version": "3.7.6"
  }
 },
 "nbformat": 4,
 "nbformat_minor": 4
}
