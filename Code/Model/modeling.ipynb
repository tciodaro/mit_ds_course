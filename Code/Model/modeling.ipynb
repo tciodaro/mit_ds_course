{
 "cells": [
  {
   "cell_type": "code",
   "execution_count": 79,
   "metadata": {},
   "outputs": [],
   "source": [
    "import pandas as pd\n",
    "import seaborn as sns\n",
    "import numpy as np\n",
    "import matplotlib.pyplot as plt\n",
    "\n",
    "%matplotlib inline\n",
    "\n",
    "from sklearn.ensemble import (AdaBoostClassifier, \n",
    "                              GradientBoostingClassifier, \n",
    "                              ExtraTreesClassifier,\n",
    "                              RandomForestClassifier)\n",
    "\n",
    "from sklearn.metrics import (recall_score,\n",
    "                             accuracy_score,\n",
    "                             precision_score,\n",
    "                             f1_score,\n",
    "                             classification_report)\n",
    "\n",
    "from sklearn.model_selection import GridSearchCV\n",
    "from sklearn.linear_model import LogisticRegression\n",
    "from sklearn.svm import SVC, LinearSVC\n",
    "from sklearn.neighbors import KNeighborsClassifier\n",
    "from sklearn.naive_bayes import GaussianNB\n",
    "from sklearn.linear_model import Perceptron\n",
    "from sklearn.linear_model import SGDClassifier\n",
    "from sklearn.ensemble import BaggingClassifier\n",
    "from sklearn.tree import DecisionTreeClassifier\n",
    "from sklearn.model_selection import KFold \n",
    "from sklearn.model_selection import cross_val_score \n",
    "from sklearn.model_selection import cross_val_predict \n",
    "from sklearn.metrics import confusion_matrix\n",
    "from sklearn.metrics import roc_curve\n",
    "from sklearn.metrics import roc_auc_score\n",
    "from sklearn import model_selection\n",
    "from sklearn import model_selection\n",
    "from sklearn import ensemble\n",
    "from sklearn import metrics\n",
    "\n",
    "\n",
    "import warnings\n",
    "warnings.filterwarnings('ignore')\n",
    "\n",
    "\n",
    "\n",
    "train_file = '../../Data/Raw/titanic/train.csv'\n",
    "test_file = '../../Data/Raw/titanic/test.csv'\n",
    "datapath = '../../Data/Processed/titanic_model.parquet'"
   ]
  },
  {
   "cell_type": "markdown",
   "metadata": {},
   "source": [
    "# Carga dos Dados "
   ]
  },
  {
   "cell_type": "code",
   "execution_count": 80,
   "metadata": {},
   "outputs": [
    {
     "name": "stdout",
     "output_type": "stream",
     "text": [
      "shape: (1309, 15) (891, 12) (418, 11)\n",
      "columns: Index(['Sobreviveu', 'Sexo', 'Idade', 'Tarifa', 'TamanhoGrupo',\n",
      "       'SobrevivenciaGrupo', 'Classe_2', 'Classe_3', 'PortoEmbarque_Q',\n",
      "       'PortoEmbarque_S', 'Titulo_Casada', 'Titulo_Menino', 'Titulo_Solteira',\n",
      "       'ExpectativaDeVida_Morrer', 'ExpectativaDeVida_Viver'],\n",
      "      dtype='object')\n"
     ]
    }
   ],
   "source": [
    "train = pd.read_csv(train_file)\n",
    "test = pd.read_csv(test_file)\n",
    "df = pd.read_parquet(datapath)\n",
    "\n",
    "print('shape:', df.shape, train.shape, test.shape)\n",
    "print('columns:', df.columns)\n",
    "\n",
    "recursos = ['Sobreviveu', 'Sexo', 'Tarifa', 'TamanhoGrupo', 'SobrevivenciaGrupo',\n",
    "       'Classe_2', 'Classe_3', 'PortoEmbarque_Q', 'PortoEmbarque_S',\n",
    "       'Titulo_Casada', 'Titulo_Menino', 'Titulo_Solteira',\n",
    "       'ExpectativaDeVida_Morrer', 'ExpectativaDeVida_Viver', 'Idade']"
   ]
  },
  {
   "cell_type": "markdown",
   "metadata": {},
   "source": [
    "## Transformando o IdPassageiro em Index"
   ]
  },
  {
   "cell_type": "code",
   "execution_count": 81,
   "metadata": {},
   "outputs": [],
   "source": [
    "train.set_index('PassengerId', inplace=True)\n",
    "test.set_index('PassengerId', inplace=True)"
   ]
  },
  {
   "cell_type": "code",
   "execution_count": 82,
   "metadata": {},
   "outputs": [
    {
     "data": {
      "text/plain": [
       "((891, 15), (418, 14))"
      ]
     },
     "execution_count": 82,
     "metadata": {},
     "output_type": "execute_result"
    }
   ],
   "source": [
    "train = df.loc[train.index]\n",
    "test =  df.loc[test.index]\n",
    "\n",
    "test.drop('Sobreviveu', axis=1, inplace=True)\n",
    "\n",
    "train.shape, test.shape"
   ]
  },
  {
   "cell_type": "markdown",
   "metadata": {},
   "source": [
    "## Definindo variáveis para treino"
   ]
  },
  {
   "cell_type": "code",
   "execution_count": 83,
   "metadata": {},
   "outputs": [
    {
     "data": {
      "text/plain": [
       "((891, 14), (891,))"
      ]
     },
     "execution_count": 83,
     "metadata": {},
     "output_type": "execute_result"
    }
   ],
   "source": [
    "X = train.drop('Sobreviveu', axis=1)\n",
    "\n",
    "y = train['Sobreviveu']\n",
    "\n",
    "X.shape, y.shape"
   ]
  },
  {
   "cell_type": "markdown",
   "metadata": {},
   "source": [
    "# Treino / Teste "
   ]
  },
  {
   "cell_type": "code",
   "execution_count": 84,
   "metadata": {},
   "outputs": [],
   "source": [
    "# Dividir 30% dos dados para o conjunto out-of-sample de teste\n",
    "X_train, X_test, y_train, y_test = model_selection.train_test_split(X,\n",
    "                                                                y,\n",
    "                                                                test_size=0.3,\n",
    "                                                                random_state=123)"
   ]
  },
  {
   "cell_type": "markdown",
   "metadata": {},
   "source": [
    "# Construção do Pipeline "
   ]
  },
  {
   "cell_type": "code",
   "execution_count": 85,
   "metadata": {},
   "outputs": [],
   "source": [
    "# Configure Pipeline\n",
    "class ModeloAuxiliar(object):\n",
    "    def __init__(self, clf, seed=0, params=None):\n",
    "        if params:\n",
    "            params['random_state'] = seed\n",
    "            self.clf = clf(**params)\n",
    "        else:\n",
    "            self.clf = clf()\n",
    "    def predict(self, x):\n",
    "        return self.clf.predict(x)\n",
    "    \n",
    "    def fit(self,x,y):\n",
    "        return self.clf.fit(x,y)\n",
    "    \n",
    "    def feature_importances(self,x,y):\n",
    "        return self.clf.fit(x,y).feature_importances_\n",
    "    \n",
    "    def score(self,x,y):\n",
    "        return self.clf.score(x,y)\n",
    "    \n",
    "\n",
    "modelos = [{'nome': 'logreg',\n",
    "            'modelo': LogisticRegression},\n",
    "           {'nome': 'etree',\n",
    "            'modelo': ExtraTreesClassifier},\n",
    "           {'nome': 'gradboost',\n",
    "             'modelo': GradientBoostingClassifier}, \n",
    "           {'nome': 'adaboost',\n",
    "             'modelo': AdaBoostClassifier},\n",
    "           {'nome': 'SVC',\n",
    "            'modelo': SVC},\n",
    "           {'nome': 'KNN',\n",
    "            'modelo': KNeighborsClassifier},\n",
    "           {'nome': 'GaussianNB',\n",
    "            'modelo': GaussianNB},\n",
    "           {'nome': 'Perceptron',\n",
    "            'modelo': Perceptron},\n",
    "           {'nome': 'LinearSVC',\n",
    "            'modelo': LinearSVC},\n",
    "           {'nome': 'SGD',\n",
    "            'modelo': SGDClassifier},\n",
    "           {'nome': 'Dtree',\n",
    "            'modelo': DecisionTreeClassifier},\n",
    "           {'nome': 'RForest',\n",
    "            'modelo': RandomForestClassifier}\n",
    "          ]\n",
    "\n",
    "resultados = []\n",
    "\n",
    "for model in modelos:\n",
    "    x = ModeloAuxiliar(clf=model['modelo'])\n",
    "    \n",
    "    # Treinando o modelo\n",
    "    x.fit(X_train, y_train)\n",
    "    \n",
    "    # Gerando a predição\n",
    "    x_pred = x.predict(X_test)\n",
    "    \n",
    "    # Verificando os Scores\n",
    "    acuracia = round(x.score(X_test,y_test)*100,2)\n",
    "    \n",
    "    resultados.append({'Nome': model['nome'],\n",
    "                       'Score': acuracia,\n",
    "                       'Valor Previsto': x_pred })"
   ]
  },
  {
   "cell_type": "markdown",
   "metadata": {},
   "source": [
    "# Ranking de Modelos Por Score"
   ]
  },
  {
   "cell_type": "code",
   "execution_count": 86,
   "metadata": {},
   "outputs": [],
   "source": [
    "models = pd.DataFrame(resultados)"
   ]
  },
  {
   "cell_type": "code",
   "execution_count": 87,
   "metadata": {},
   "outputs": [
    {
     "data": {
      "text/html": [
       "<div>\n",
       "<style scoped>\n",
       "    .dataframe tbody tr th:only-of-type {\n",
       "        vertical-align: middle;\n",
       "    }\n",
       "\n",
       "    .dataframe tbody tr th {\n",
       "        vertical-align: top;\n",
       "    }\n",
       "\n",
       "    .dataframe thead th {\n",
       "        text-align: right;\n",
       "    }\n",
       "</style>\n",
       "<table border=\"1\" class=\"dataframe\">\n",
       "  <thead>\n",
       "    <tr style=\"text-align: right;\">\n",
       "      <th></th>\n",
       "      <th>Nome</th>\n",
       "      <th>Score</th>\n",
       "    </tr>\n",
       "  </thead>\n",
       "  <tbody>\n",
       "    <tr>\n",
       "      <th>2</th>\n",
       "      <td>gradboost</td>\n",
       "      <td>92.16</td>\n",
       "    </tr>\n",
       "    <tr>\n",
       "      <th>0</th>\n",
       "      <td>logreg</td>\n",
       "      <td>90.30</td>\n",
       "    </tr>\n",
       "    <tr>\n",
       "      <th>3</th>\n",
       "      <td>adaboost</td>\n",
       "      <td>90.30</td>\n",
       "    </tr>\n",
       "    <tr>\n",
       "      <th>8</th>\n",
       "      <td>LinearSVC</td>\n",
       "      <td>90.30</td>\n",
       "    </tr>\n",
       "    <tr>\n",
       "      <th>9</th>\n",
       "      <td>SGD</td>\n",
       "      <td>89.93</td>\n",
       "    </tr>\n",
       "    <tr>\n",
       "      <th>6</th>\n",
       "      <td>GaussianNB</td>\n",
       "      <td>88.06</td>\n",
       "    </tr>\n",
       "    <tr>\n",
       "      <th>11</th>\n",
       "      <td>RForest</td>\n",
       "      <td>88.06</td>\n",
       "    </tr>\n",
       "    <tr>\n",
       "      <th>1</th>\n",
       "      <td>etree</td>\n",
       "      <td>86.19</td>\n",
       "    </tr>\n",
       "    <tr>\n",
       "      <th>10</th>\n",
       "      <td>Dtree</td>\n",
       "      <td>85.45</td>\n",
       "    </tr>\n",
       "    <tr>\n",
       "      <th>5</th>\n",
       "      <td>KNN</td>\n",
       "      <td>73.88</td>\n",
       "    </tr>\n",
       "    <tr>\n",
       "      <th>4</th>\n",
       "      <td>SVC</td>\n",
       "      <td>71.27</td>\n",
       "    </tr>\n",
       "    <tr>\n",
       "      <th>7</th>\n",
       "      <td>Perceptron</td>\n",
       "      <td>44.78</td>\n",
       "    </tr>\n",
       "  </tbody>\n",
       "</table>\n",
       "</div>"
      ],
      "text/plain": [
       "          Nome  Score\n",
       "2    gradboost  92.16\n",
       "0       logreg  90.30\n",
       "3     adaboost  90.30\n",
       "8    LinearSVC  90.30\n",
       "9          SGD  89.93\n",
       "6   GaussianNB  88.06\n",
       "11     RForest  88.06\n",
       "1        etree  86.19\n",
       "10       Dtree  85.45\n",
       "5          KNN  73.88\n",
       "4          SVC  71.27\n",
       "7   Perceptron  44.78"
      ]
     },
     "execution_count": 87,
     "metadata": {},
     "output_type": "execute_result"
    }
   ],
   "source": [
    "models[['Nome','Score']].sort_values(by='Score', ascending=False)"
   ]
  },
  {
   "cell_type": "markdown",
   "metadata": {},
   "source": [
    "O modelo com melhor score foi o gradboost. Portanto continuar o processo utilizando esse modelo, vamos agora para a Validação Cruzada."
   ]
  },
  {
   "cell_type": "markdown",
   "metadata": {},
   "source": [
    "# Validação Cruzada"
   ]
  },
  {
   "cell_type": "code",
   "execution_count": 88,
   "metadata": {},
   "outputs": [
    {
     "name": "stdout",
     "output_type": "stream",
     "text": [
      "O score cross-validado do gradboost é: 0.8731694828469022\n",
      "O score cross-validado do adadboost é: 0.8892729134664619\n",
      "O score cross-validado da regressão logistica é: 0.897311827956989\n"
     ]
    }
   ],
   "source": [
    "# Objeto de validacao cruzada\n",
    "cvfold = model_selection.StratifiedKFold(n_splits = 10, random_state = 0)\n",
    "\n",
    "ada = AdaBoostClassifier(n_estimators=200, random_state=0, learning_rate=0.1)\n",
    "grd = GradientBoostingClassifier(n_estimators=200, random_state=0, learning_rate=0.1)\n",
    "log = LogisticRegression()\n",
    "\n",
    "resGRD = cross_val_score(grd, X_train, y_train, cv=cvfold, scoring='accuracy')\n",
    "resADA = cross_val_score(ada, X_train, y_train, cv=cvfold, scoring='accuracy')\n",
    "resLOG = cross_val_score(log, X_train, y_train, cv=cvfold, scoring='accuracy')\n",
    "\n",
    "print('O score cross-validado do gradboost é:', resGRD.mean())\n",
    "print('O score cross-validado do adadboost é:', resADA.mean())\n",
    "print('O score cross-validado da regressão logistica é:', resLOG.mean())"
   ]
  },
  {
   "cell_type": "code",
   "execution_count": 89,
   "metadata": {},
   "outputs": [],
   "source": [
    "grd.fit(X_train, y_train)\n",
    "ada.fit(X_train, y_train)\n",
    "log.fit(X_train, y_train)\n",
    "\n",
    "grdPred = grd.predict(X_test)\n",
    "adaPred = ada.predict(X_test)\n",
    "logPred = log.predict(X_test)"
   ]
  },
  {
   "cell_type": "markdown",
   "metadata": {},
   "source": [
    "# Matriz de Confusão \n",
    "\n",
    "Essa média as vezes pode ser enganosa. Nós podemos analisar a Matriz de Confusão _(Confusion Matrix)_ que nos mostra aonde o modelo errou. Falsos Positivos x Falso Negativos."
   ]
  },
  {
   "cell_type": "code",
   "execution_count": 90,
   "metadata": {},
   "outputs": [
    {
     "data": {
      "image/png": "[encoded data removed]",
      "text/plain": [
       "<Figure size 432x288 with 2 Axes>"
      ]
     },
     "metadata": {
      "needs_background": "light"
     },
     "output_type": "display_data"
    }
   ],
   "source": [
    "sns.heatmap(confusion_matrix(y_test,grdPred), cmap='OrRd', annot=True, fmt='2.0f')\n",
    "plt.title('gradboost')\n",
    "plt.xlabel('P R E V I S T O')\n",
    "plt.ylabel('R E A L')\n",
    "plt.show()"
   ]
  },
  {
   "cell_type": "markdown",
   "metadata": {},
   "source": [
    "Resumo da Matriz\n",
    "\n",
    "* O número de Verdadeiros Positivo (VP) foi de 82. (Número de acertos do modelo para as pessoas que realmente viveram)\n",
    "* O número de Vedadeiros Negativo (VN) foi de 163 ( Número de acertos do modelo para as pessoas que realmente morreram)\n",
    "* O número de Falsos Positivo foi de 7. (Número de erros do modelo para as pessoas que morreram mas o modelo previu que viveram)\n",
    "* O número de Falsos Negativo foi de 16. (Número de erros do modelo para as pessoas que viveram mas o modelo previu que morreram)"
   ]
  },
  {
   "cell_type": "markdown",
   "metadata": {},
   "source": [
    "Agora vamos calcular as métricas do modelo. Primeiramente calcular a precisão."
   ]
  },
  {
   "cell_type": "markdown",
   "metadata": {},
   "source": [
    "### Precisão\n",
    "\n",
    "O cálculo da precisão é (VP / ( VP + FP). Isto é, O número de acertos do modelo das pessoas que viveram, dividido pela soma dos acertos das pessoas que viveram com o que o modelo previu que viveram mas na verdade morreram."
   ]
  },
  {
   "cell_type": "code",
   "execution_count": 91,
   "metadata": {},
   "outputs": [
    {
     "data": {
      "text/plain": [
       "0.9213483146067416"
      ]
     },
     "execution_count": 91,
     "metadata": {},
     "output_type": "execute_result"
    }
   ],
   "source": [
    "precisao = precision_score(y_test,grdPred)\n",
    "precisao"
   ]
  },
  {
   "cell_type": "markdown",
   "metadata": {},
   "source": [
    "### Recall\n",
    "\n",
    "O cálculo da revocação é (VP / ( VP + FN). Isto é, o número de acertos do modelo das pessoas que viveram, dividido pela soma dos acertos das pessoas que viveram com o que o modelo previu que morreram mas na verdade viveram."
   ]
  },
  {
   "cell_type": "code",
   "execution_count": 92,
   "metadata": {},
   "outputs": [
    {
     "data": {
      "text/plain": [
       "0.8367346938775511"
      ]
     },
     "execution_count": 92,
     "metadata": {},
     "output_type": "execute_result"
    }
   ],
   "source": [
    "recall  = recall_score(y_test,grdPred)\n",
    "recall"
   ]
  },
  {
   "cell_type": "markdown",
   "metadata": {},
   "source": [
    "### Acuracia\n",
    "\n",
    "O cálculo da acurácia é (VP + VN / Total). Isto é, é o número de acertos das pessoas que viveram + o número de acerto das pessoas que morreram dividido pelo valor total da amostra. "
   ]
  },
  {
   "cell_type": "code",
   "execution_count": 93,
   "metadata": {},
   "outputs": [
    {
     "data": {
      "text/plain": [
       "0.914179104477612"
      ]
     },
     "execution_count": 93,
     "metadata": {},
     "output_type": "execute_result"
    }
   ],
   "source": [
    "accuracy = accuracy_score(y_test,grdPred)\n",
    "accuracy"
   ]
  },
  {
   "cell_type": "markdown",
   "metadata": {},
   "source": [
    "### F1-Score\n",
    "\n",
    "O calculo do f1s-score é 2* ( (Precisão x Recall) / (Precisão + Recall)). Isto é, é uma valor mais balanceado sobre os dados positivos."
   ]
  },
  {
   "cell_type": "code",
   "execution_count": 94,
   "metadata": {},
   "outputs": [
    {
     "data": {
      "text/plain": [
       "0.877005347593583"
      ]
     },
     "execution_count": 94,
     "metadata": {},
     "output_type": "execute_result"
    }
   ],
   "source": [
    "f1 = f1_score(y_test,grdPred)\n",
    "f1"
   ]
  },
  {
   "cell_type": "code",
   "execution_count": 95,
   "metadata": {},
   "outputs": [
    {
     "data": {
      "image/png": "[encoded data removed]",
      "text/plain": [
       "<Figure size 432x288 with 2 Axes>"
      ]
     },
     "metadata": {
      "needs_background": "light"
     },
     "output_type": "display_data"
    }
   ],
   "source": [
    "sns.heatmap(confusion_matrix(y_test,adaPred), cmap='OrRd', annot=True, fmt='2.0f')\n",
    "plt.title('Adaboost')\n",
    "plt.xlabel('P R E V I S T O')\n",
    "plt.ylabel('R E A L')\n",
    "plt.show()"
   ]
  },
  {
   "cell_type": "code",
   "execution_count": 96,
   "metadata": {},
   "outputs": [
    {
     "data": {
      "image/png": "[encoded data removed]",
      "text/plain": [
       "<Figure size 432x288 with 2 Axes>"
      ]
     },
     "metadata": {
      "needs_background": "light"
     },
     "output_type": "display_data"
    }
   ],
   "source": [
    "sns.heatmap(confusion_matrix(y_test,logPred), cmap='OrRd', annot=True, fmt='2.0f')\n",
    "plt.title('Logistic')\n",
    "plt.xlabel('P R E V I S T O')\n",
    "plt.ylabel('R E A L')\n",
    "plt.show()"
   ]
  },
  {
   "cell_type": "markdown",
   "metadata": {},
   "source": [
    "<a name=\"rocauc\"></a>"
   ]
  },
  {
   "cell_type": "markdown",
   "metadata": {},
   "source": [
    "# Curvas ROC e AUC "
   ]
  },
  {
   "cell_type": "markdown",
   "metadata": {},
   "source": [
    "O formato da curva contem várias informações, dentre elas, a taxa esperada de falsos positivos e taxa esperada de falsos negativos. \n",
    "* O quanto menor for o eixo x menor a quantidade de falsos positivos e maior verdadeiros negativos. \n",
    "* Quanto maiores os valores no eixo y, maior a quantidade de verdadeiros positivos e menor a quantidade de falsos negativos."
   ]
  },
  {
   "cell_type": "markdown",
   "metadata": {},
   "source": [
    "Vamos calcular as probabilidades de um modelo sem habilidade e os modelo do Gradboost e Adaboost"
   ]
  },
  {
   "cell_type": "code",
   "execution_count": 97,
   "metadata": {},
   "outputs": [
    {
     "name": "stdout",
     "output_type": "stream",
     "text": [
      "Sem habilidade: ROC AUC=0.500\n",
      "gradboost: ROC AUC=0.937\n",
      "adaboost: ROC AUC=0.941\n",
      "logistic: ROC AUC=0.930\n"
     ]
    },
    {
     "data": {
      "image/png": "[encoded data removed]",
      "text/plain": [
       "<Figure size 432x288 with 1 Axes>"
      ]
     },
     "metadata": {
      "needs_background": "light"
     },
     "output_type": "display_data"
    }
   ],
   "source": [
    "ns_probs = [0 for _ in range(len(y_test))] # no skill model\n",
    "\n",
    "grd_probs = grd.predict_proba(X_test)[:,1]\n",
    "ada_probs = ada.predict_proba(X_test)[:,1]\n",
    "log_probs = log.predict_proba(X_test)[:,1]\n",
    "\n",
    "ns_auc = roc_auc_score(y_test, ns_probs)\n",
    "grd_auc = roc_auc_score(y_test, grd_probs)\n",
    "ada_auc = roc_auc_score(y_test, ada_probs)\n",
    "log_auc = roc_auc_score(y_test, log_probs)\n",
    "\n",
    "print('Sem habilidade: ROC AUC=%.3f' %(ns_auc))\n",
    "print('gradboost: ROC AUC=%.3f' %(grd_auc))\n",
    "print('adaboost: ROC AUC=%.3f' %(ada_auc))\n",
    "print('logistic: ROC AUC=%.3f' %(log_auc))\n",
    "\n",
    "# calcular a curva ROC\n",
    "ns_tfp, ns_tvp, _ = roc_curve(y_test, ns_probs)\n",
    "grd_tfp, grd_tvp, _ = roc_curve(y_test, grd_probs)\n",
    "ada_tfp, ada_tvp, _ = roc_curve(y_test, ada_probs)\n",
    "log_tfp, log_tvp, _ = roc_curve(y_test, log_probs)\n",
    "\n",
    "plt.plot(ns_tfp, ns_tvp, linestyle='--', label='Sem habilidade')\n",
    "plt.plot(grd_tfp, grd_tvp, marker='.', label='gradboost')\n",
    "plt.plot(ada_tfp, ada_tvp, marker='.', label='adaboost')\n",
    "plt.plot(log_tfp, log_tvp, marker='.', label='Logistic')\n",
    "\n",
    "plt.grid(True)\n",
    "plt.legend()\n",
    "\n",
    "plt.xlabel('Taxa de Falsos Positivos')\n",
    "plt.ylabel('Taxa de Verdadeiros Positivos')\n",
    "\n",
    "plt.show()"
   ]
  },
  {
   "cell_type": "markdown",
   "metadata": {},
   "source": [
    "# Customização de Hyper-Parâmetros "
   ]
  },
  {
   "cell_type": "markdown",
   "metadata": {},
   "source": [
    "**Parâmetros**\n",
    "\n",
    "**n_jobs**: Quantidade de núcleos do CPU usados no processo de treino do modelo preditivo. Se for -1, todos os núcleos serão usados.\n",
    "\n",
    "**n_estimators**: Quantidade de árvores de classificação usadas no modelo preditivo (10 é o padrão)\n",
    "\n",
    "**max_depth**: Profundidade de árvore ou a quantidade de nós que ela deve se expandir. Se esse valor for muito alto, existe a chance de o modelo super-adequar _(overfit)_ o modelo.\n",
    "\n",
    "**min_samples_leaf**: O número mínimo de amostras requeridas para ser considerado um ramo. Isso tende a suavizar o modelo.\n",
    "\n",
    "**verbose**: Controla a saída de textos durante o processo de aprendizagem/treino. O valor 0 não mostra nenhum texto, enquanto 3 mostra o processo de aprendizagem de árvore a cada iteração."
   ]
  },
  {
   "cell_type": "markdown",
   "metadata": {},
   "source": [
    "* ### Random Forest"
   ]
  },
  {
   "cell_type": "code",
   "execution_count": 98,
   "metadata": {},
   "outputs": [
    {
     "name": "stdout",
     "output_type": "stream",
     "text": [
      "Fitting 5 folds for each of 12 candidates, totalling 60 fits\n"
     ]
    },
    {
     "name": "stderr",
     "output_type": "stream",
     "text": [
      "[Parallel(n_jobs=1)]: Using backend SequentialBackend with 1 concurrent workers.\n"
     ]
    },
    {
     "name": "stdout",
     "output_type": "stream",
     "text": [
      "0.8941032258064517\n",
      "RandomForestClassifier(bootstrap=True, ccp_alpha=0.0, class_weight=None,\n",
      "                       criterion='gini', max_depth=4, max_features='auto',\n",
      "                       max_leaf_nodes=None, max_samples=None,\n",
      "                       min_impurity_decrease=0.0, min_impurity_split=None,\n",
      "                       min_samples_leaf=1, min_samples_split=2,\n",
      "                       min_weight_fraction_leaf=0.0, n_estimators=100,\n",
      "                       n_jobs=None, oob_score=False, random_state=123,\n",
      "                       verbose=0, warm_start=False)\n"
     ]
    },
    {
     "name": "stderr",
     "output_type": "stream",
     "text": [
      "[Parallel(n_jobs=1)]: Done  60 out of  60 | elapsed:   10.3s finished\n"
     ]
    }
   ],
   "source": [
    "rf_params = {\n",
    "    'n_estimators': [100,200],\n",
    "    'max_depth': [2,4],\n",
    "    'min_samples_leaf': [1,2,3]\n",
    "}\n",
    "\n",
    "gd = GridSearchCV(estimator=RandomForestClassifier(random_state=123),\n",
    "                 param_grid=rf_params, verbose=True);\n",
    "\n",
    "gd.fit(X_train,y_train);\n",
    "\n",
    "print(gd.best_score_);\n",
    "print(gd.best_estimator_);"
   ]
  },
  {
   "cell_type": "code",
   "execution_count": 99,
   "metadata": {},
   "outputs": [
    {
     "data": {
      "text/plain": [
       "array([1., 0., 0., 0., 0., 0., 1., 0., 0., 0., 0., 0., 1., 0., 0., 1., 1.,\n",
       "       0., 0., 0., 0., 1., 0., 0., 0., 0., 0., 1., 0., 0., 0., 1., 0., 0.,\n",
       "       0., 0., 0., 0., 1., 0., 1., 0., 0., 1., 0., 0., 1., 0., 0., 1., 1.,\n",
       "       0., 0., 0., 0., 0., 0., 0., 0., 0., 1., 1., 1., 1., 0., 0., 0., 0.,\n",
       "       0., 1., 1., 0., 0., 0., 0., 0., 0., 0., 1., 1., 0., 0., 1., 0., 0.,\n",
       "       0., 1., 0., 0., 0., 1., 0., 0., 1., 0., 0., 1., 1., 0., 1., 0., 0.,\n",
       "       0., 1., 0., 0., 0., 0., 0., 1., 1., 0., 1., 0., 0., 0., 0., 0., 0.,\n",
       "       0., 0., 0., 0., 0., 0., 0., 0., 0., 1., 0., 1., 0., 0., 1., 1., 0.,\n",
       "       1., 0., 0., 1., 0., 0., 0., 1., 1., 0., 0., 0., 0., 1., 0., 0., 0.,\n",
       "       0., 1., 0., 1., 1., 1., 1., 1., 0., 0., 1., 0., 1., 1., 0., 1., 0.,\n",
       "       0., 0., 0., 0., 0., 0., 1., 0., 0., 1., 0., 0., 0., 0., 0., 1., 0.,\n",
       "       1., 0., 1., 0., 0., 1., 0., 0., 0., 0., 1., 1., 0., 1., 1., 0., 0.,\n",
       "       0., 0., 0., 1., 0., 0., 0., 1., 0., 0., 0., 0., 0., 0., 1., 0., 0.,\n",
       "       0., 0., 0., 0., 0., 0., 0., 0., 1., 1., 0., 0., 0., 0., 0., 1., 0.,\n",
       "       1., 0., 0., 0., 1., 0., 0., 0., 0., 0., 0., 1., 0., 0., 0., 0., 0.,\n",
       "       1., 0., 0., 1., 0., 0., 1., 0., 0., 0., 1., 0., 1.])"
      ]
     },
     "execution_count": 99,
     "metadata": {},
     "output_type": "execute_result"
    }
   ],
   "source": [
    "gd_pred = gd.predict(X_test)\n",
    "gd_pred"
   ]
  },
  {
   "cell_type": "markdown",
   "metadata": {},
   "source": [
    "<a name=\"ensembling\"></a>"
   ]
  },
  {
   "cell_type": "markdown",
   "metadata": {},
   "source": [
    "# Ensembling\n",
    "Uma forma de aumentar a acuracidade ou performance do modelo preditivo. Ensembling é a combinação de vários modelos preditivos de forma a ter uma versão final mais poderosa e mais estável. Ensembling pode ser feito de 3 formas:\n",
    "* Classificão de Votos (Voting Classifier)\n",
    "* Ensacamento (Bagging)\n",
    "* Impulsionamento (Boosting)"
   ]
  },
  {
   "cell_type": "markdown",
   "metadata": {},
   "source": [
    "<a name=\"voting\"></a>"
   ]
  },
  {
   "cell_type": "markdown",
   "metadata": {},
   "source": [
    "* ### Classificação de Votos"
   ]
  },
  {
   "cell_type": "code",
   "execution_count": 100,
   "metadata": {},
   "outputs": [],
   "source": [
    "misturados = [('KNN',KNeighborsClassifier(n_neighbors=10)),\n",
    "                  ('RBF',SVC(probability=True,kernel='rbf',C=0.5,gamma=0.1)),\n",
    "                  ('RFor',RandomForestClassifier(n_estimators=100,random_state=123)),\n",
    "                  ('LR',LogisticRegression(C=0.05)),\n",
    "                  ('DT',DecisionTreeClassifier(random_state=123)),\n",
    "                  ('NB',GaussianNB()),\n",
    "                  ('svm',SVC(kernel='linear',probability=True))\n",
    "                 ]"
   ]
  },
  {
   "cell_type": "code",
   "execution_count": 101,
   "metadata": {},
   "outputs": [
    {
     "name": "stdout",
     "output_type": "stream",
     "text": [
      "Score 0.8992537313432836\n",
      "Score cross-validado 0.8992877492877493\n"
     ]
    }
   ],
   "source": [
    "from sklearn.ensemble import VotingClassifier\n",
    "\n",
    "meu_ensemble = VotingClassifier(estimators=misturados, voting='soft').fit(X_train,y_train)\n",
    "\n",
    "print('Score', meu_ensemble.score(X_test, y_test))\n",
    "cross = cross_val_score(meu_ensemble,X_test, y_test, cv=10, scoring='accuracy') \n",
    "print('Score cross-validado', cross.mean())"
   ]
  },
  {
   "cell_type": "markdown",
   "metadata": {},
   "source": [
    "<a name=\"bagging\"></a>"
   ]
  },
  {
   "cell_type": "markdown",
   "metadata": {},
   "source": [
    "# Importância de Recursos _(Feature Importance)_ \n"
   ]
  },
  {
   "cell_type": "code",
   "execution_count": 102,
   "metadata": {},
   "outputs": [],
   "source": [
    "rf_params = {\n",
    "    'n_jobs': -1,\n",
    "    'n_estimators': 100,\n",
    "    'max_depth': 2,\n",
    "    'min_samples_leaf': 2,\n",
    "    'verbose': 0\n",
    "}"
   ]
  },
  {
   "cell_type": "code",
   "execution_count": 103,
   "metadata": {},
   "outputs": [],
   "source": [
    "rf = ModeloAuxiliar(clf=RandomForestClassifier, seed=123, params=rf_params)"
   ]
  },
  {
   "cell_type": "code",
   "execution_count": 104,
   "metadata": {},
   "outputs": [],
   "source": [
    "rf_features = rf.feature_importances(X_train,y_train)"
   ]
  },
  {
   "cell_type": "code",
   "execution_count": 105,
   "metadata": {},
   "outputs": [
    {
     "data": {
      "text/plain": [
       "array([1.56654216e-01, 1.16464398e-02, 4.32089770e-02, 1.90579269e-01,\n",
       "       3.41037727e-01, 1.77477637e-03, 3.31507515e-02, 7.04570241e-05,\n",
       "       2.79691288e-03, 3.31109342e-02, 3.21567346e-03, 5.88014292e-02,\n",
       "       3.49488492e-02, 8.90035865e-02])"
      ]
     },
     "execution_count": 105,
     "metadata": {},
     "output_type": "execute_result"
    }
   ],
   "source": [
    "rf_features"
   ]
  },
  {
   "cell_type": "code",
   "execution_count": 106,
   "metadata": {},
   "outputs": [
    {
     "data": {
      "text/plain": [
       "array(['Sexo', 'Idade', 'Tarifa', 'TamanhoGrupo', 'SobrevivenciaGrupo',\n",
       "       'Classe_2', 'Classe_3', 'PortoEmbarque_Q', 'PortoEmbarque_S',\n",
       "       'Titulo_Casada', 'Titulo_Menino', 'Titulo_Solteira',\n",
       "       'ExpectativaDeVida_Morrer', 'ExpectativaDeVida_Viver'],\n",
       "      dtype=object)"
      ]
     },
     "execution_count": 106,
     "metadata": {},
     "output_type": "execute_result"
    }
   ],
   "source": [
    "cols = X_train.columns.values\n",
    "cols"
   ]
  },
  {
   "cell_type": "code",
   "execution_count": 107,
   "metadata": {},
   "outputs": [],
   "source": [
    "feature_dataframe = pd.DataFrame({'recursos': cols, \n",
    "                                  'Importância de Recursos RForest': rf_features})"
   ]
  },
  {
   "cell_type": "code",
   "execution_count": 108,
   "metadata": {},
   "outputs": [
    {
     "data": {
      "text/plain": [
       "<matplotlib.axes._subplots.AxesSubplot at 0x1deb6546d88>"
      ]
     },
     "execution_count": 108,
     "metadata": {},
     "output_type": "execute_result"
    },
    {
     "data": {
      "image/png": "[encoded data removed]",
      "text/plain": [
       "<Figure size 432x288 with 1 Axes>"
      ]
     },
     "metadata": {
      "needs_background": "light"
     },
     "output_type": "display_data"
    }
   ],
   "source": [
    "feature_dataframe.sort_values(by='Importância de Recursos RForest').plot.barh(x='recursos')"
   ]
  },
  {
   "cell_type": "code",
   "execution_count": null,
   "metadata": {},
   "outputs": [],
   "source": [
    "meu_ensemble.fit(X_train,y_train)"
   ]
  },
  {
   "cell_type": "code",
   "execution_count": null,
   "metadata": {},
   "outputs": [],
   "source": [
    "meu_ensemble.score(X_test, y_test)"
   ]
  },
  {
   "cell_type": "code",
   "execution_count": null,
   "metadata": {},
   "outputs": [],
   "source": [
    "grd.score(X_test, y_test)"
   ]
  },
  {
   "cell_type": "markdown",
   "metadata": {},
   "source": [
    "### Ao final de todas as verificações, escolhi seguir com o Gradient Boosting para submissão do arquivo."
   ]
  },
  {
   "cell_type": "code",
   "execution_count": null,
   "metadata": {},
   "outputs": [],
   "source": [
    "test.shape"
   ]
  },
  {
   "cell_type": "code",
   "execution_count": null,
   "metadata": {},
   "outputs": [],
   "source": [
    "X_test.shape"
   ]
  },
  {
   "cell_type": "code",
   "execution_count": null,
   "metadata": {},
   "outputs": [],
   "source": [
    "grdPredTest = grd.predict(test)\n",
    "grdPredTest.shape"
   ]
  },
  {
   "cell_type": "code",
   "execution_count": null,
   "metadata": {},
   "outputs": [],
   "source": [
    "test.index"
   ]
  },
  {
   "cell_type": "markdown",
   "metadata": {},
   "source": [
    "<a name=\"submissao\"></a>"
   ]
  },
  {
   "cell_type": "markdown",
   "metadata": {},
   "source": [
    "# Submissão"
   ]
  },
  {
   "cell_type": "code",
   "execution_count": null,
   "metadata": {},
   "outputs": [],
   "source": [
    "submissao = pd.DataFrame({\n",
    "    'PassengerId': test.index,\n",
    "    'Survived': grdPredTest\n",
    "})"
   ]
  },
  {
   "cell_type": "code",
   "execution_count": null,
   "metadata": {},
   "outputs": [],
   "source": [
    "submissao.to_excel('../../Data/Modeling/results.xlsx', index= False)\n",
    "\n",
    "submissao.head()"
   ]
  }
 ],
 "metadata": {
  "kernelspec": {
   "display_name": "Python 3",
   "language": "python",
   "name": "python3"
  },
  "language_info": {
   "codemirror_mode": {
    "name": "ipython",
    "version": 3
   },
   "file_extension": ".py",
   "mimetype": "text/x-python",
   "name": "python",
   "nbconvert_exporter": "python",
   "pygments_lexer": "ipython3",
   "version": "3.7.7"
  }
 },
 "nbformat": 4,
 "nbformat_minor": 4
}
