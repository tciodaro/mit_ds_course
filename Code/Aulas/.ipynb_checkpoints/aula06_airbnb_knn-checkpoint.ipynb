{
 "cells": [
  {
   "cell_type": "code",
   "execution_count": 12,
   "metadata": {},
   "outputs": [],
   "source": [
    "import pandas\n",
    "import numpy as np\n",
    "import seaborn as sns\n",
    "import matplotlib.pyplot as plt\n",
    "from sklearn import metrics\n",
    "from sklearn import model_selection\n",
    "from sklearn import linear_model as lm\n",
    "from sklearn import preprocessing\n",
    "from sklearn import pipeline\n",
    "from sklearn.preprocessing import StandardScaler\n",
    "from sklearn import neighbors\n",
    "\n",
    "pandas.set_option(\"display.precision\", 2)\n",
    "\n",
    "datafile = '../../Data/Raw/airbnb/airbnb_queens_2019.csv'\n",
    "\n",
    "\n",
    "target_outlier = True\n",
    "feature_outlier= True\n",
    "feature_norm   = True\n",
    "target_norm    = False\n",
    "\n",
    "target_variable = ['price']\n",
    "\n",
    "info_variables = ['id', 'name', 'host_id', 'host_name', 'neighbourhood_group','last_review',]\n",
    "# categorical_variables = ['room_type','neighbourhood',]\n",
    "categorical_variables = []\n",
    "\n",
    "numeric_variables = ['latitude', 'longitude', 'minimum_nights','number_of_reviews', \n",
    "                     'reviews_per_month', 'calculated_host_listings_count', 'availability_365']"
   ]
  },
  {
   "cell_type": "code",
   "execution_count": 2,
   "metadata": {},
   "outputs": [],
   "source": [
    "%run functions.ipynb"
   ]
  },
  {
   "cell_type": "markdown",
   "metadata": {},
   "source": [
    "# Load Data "
   ]
  },
  {
   "cell_type": "code",
   "execution_count": 3,
   "metadata": {},
   "outputs": [
    {
     "name": "stdout",
     "output_type": "stream",
     "text": [
      "(5666, 16)\n",
      "Index(['id', 'name', 'host_id', 'host_name', 'neighbourhood_group',\n",
      "       'neighbourhood', 'latitude', 'longitude', 'room_type', 'price',\n",
      "       'minimum_nights', 'number_of_reviews', 'last_review',\n",
      "       'reviews_per_month', 'calculated_host_listings_count',\n",
      "       'availability_365'],\n",
      "      dtype='object')\n"
     ]
    },
    {
     "data": {
      "text/html": [
       "<div>\n",
       "<style scoped>\n",
       "    .dataframe tbody tr th:only-of-type {\n",
       "        vertical-align: middle;\n",
       "    }\n",
       "\n",
       "    .dataframe tbody tr th {\n",
       "        vertical-align: top;\n",
       "    }\n",
       "\n",
       "    .dataframe thead th {\n",
       "        text-align: right;\n",
       "    }\n",
       "</style>\n",
       "<table border=\"1\" class=\"dataframe\">\n",
       "  <thead>\n",
       "    <tr style=\"text-align: right;\">\n",
       "      <th></th>\n",
       "      <th>id</th>\n",
       "      <th>name</th>\n",
       "      <th>host_id</th>\n",
       "      <th>host_name</th>\n",
       "      <th>neighbourhood_group</th>\n",
       "      <th>neighbourhood</th>\n",
       "      <th>latitude</th>\n",
       "      <th>longitude</th>\n",
       "      <th>room_type</th>\n",
       "      <th>price</th>\n",
       "      <th>minimum_nights</th>\n",
       "      <th>number_of_reviews</th>\n",
       "      <th>last_review</th>\n",
       "      <th>reviews_per_month</th>\n",
       "      <th>calculated_host_listings_count</th>\n",
       "      <th>availability_365</th>\n",
       "    </tr>\n",
       "  </thead>\n",
       "  <tbody>\n",
       "    <tr>\n",
       "      <th>0</th>\n",
       "      <td>12937</td>\n",
       "      <td>1 Stop fr. Manhattan! Private Suite,Landmark B...</td>\n",
       "      <td>50124</td>\n",
       "      <td>Orestes</td>\n",
       "      <td>Queens</td>\n",
       "      <td>Long Island City</td>\n",
       "      <td>40.75</td>\n",
       "      <td>-73.95</td>\n",
       "      <td>Private room</td>\n",
       "      <td>130</td>\n",
       "      <td>3</td>\n",
       "      <td>248</td>\n",
       "      <td>01-07-19</td>\n",
       "      <td>2.25</td>\n",
       "      <td>1</td>\n",
       "      <td>215</td>\n",
       "    </tr>\n",
       "    <tr>\n",
       "      <th>1</th>\n",
       "      <td>18198</td>\n",
       "      <td>Little King of Queens</td>\n",
       "      <td>70091</td>\n",
       "      <td>Justin</td>\n",
       "      <td>Queens</td>\n",
       "      <td>Woodside</td>\n",
       "      <td>40.75</td>\n",
       "      <td>-73.90</td>\n",
       "      <td>Private room</td>\n",
       "      <td>70</td>\n",
       "      <td>30</td>\n",
       "      <td>25</td>\n",
       "      <td>31-05-19</td>\n",
       "      <td>0.22</td>\n",
       "      <td>1</td>\n",
       "      <td>324</td>\n",
       "    </tr>\n",
       "    <tr>\n",
       "      <th>2</th>\n",
       "      <td>32363</td>\n",
       "      <td>Fully Furnished Basement Apartment</td>\n",
       "      <td>140025</td>\n",
       "      <td>Fredah</td>\n",
       "      <td>Queens</td>\n",
       "      <td>Flushing</td>\n",
       "      <td>40.74</td>\n",
       "      <td>-73.83</td>\n",
       "      <td>Private room</td>\n",
       "      <td>140</td>\n",
       "      <td>2</td>\n",
       "      <td>1</td>\n",
       "      <td>19-09-11</td>\n",
       "      <td>0.01</td>\n",
       "      <td>1</td>\n",
       "      <td>1</td>\n",
       "    </tr>\n",
       "    <tr>\n",
       "      <th>3</th>\n",
       "      <td>39593</td>\n",
       "      <td>A room w/ a Manhattan view, longer stay</td>\n",
       "      <td>110506</td>\n",
       "      <td>Myung</td>\n",
       "      <td>Queens</td>\n",
       "      <td>Sunnyside</td>\n",
       "      <td>40.75</td>\n",
       "      <td>-73.92</td>\n",
       "      <td>Private room</td>\n",
       "      <td>79</td>\n",
       "      <td>30</td>\n",
       "      <td>28</td>\n",
       "      <td>12-04-19</td>\n",
       "      <td>0.26</td>\n",
       "      <td>1</td>\n",
       "      <td>126</td>\n",
       "    </tr>\n",
       "    <tr>\n",
       "      <th>4</th>\n",
       "      <td>45910</td>\n",
       "      <td>Beautiful Queens Brownstone! - 5BR</td>\n",
       "      <td>204539</td>\n",
       "      <td>Mark</td>\n",
       "      <td>Queens</td>\n",
       "      <td>Ridgewood</td>\n",
       "      <td>40.70</td>\n",
       "      <td>-73.90</td>\n",
       "      <td>Entire home/apt</td>\n",
       "      <td>350</td>\n",
       "      <td>8</td>\n",
       "      <td>10</td>\n",
       "      <td>12-05-19</td>\n",
       "      <td>0.11</td>\n",
       "      <td>5</td>\n",
       "      <td>365</td>\n",
       "    </tr>\n",
       "  </tbody>\n",
       "</table>\n",
       "</div>"
      ],
      "text/plain": [
       "      id                                               name  host_id  \\\n",
       "0  12937  1 Stop fr. Manhattan! Private Suite,Landmark B...    50124   \n",
       "1  18198                              Little King of Queens    70091   \n",
       "2  32363                 Fully Furnished Basement Apartment   140025   \n",
       "3  39593            A room w/ a Manhattan view, longer stay   110506   \n",
       "4  45910                 Beautiful Queens Brownstone! - 5BR   204539   \n",
       "\n",
       "  host_name neighbourhood_group     neighbourhood  latitude  longitude  \\\n",
       "0   Orestes              Queens  Long Island City     40.75     -73.95   \n",
       "1    Justin              Queens          Woodside     40.75     -73.90   \n",
       "2    Fredah              Queens          Flushing     40.74     -73.83   \n",
       "3     Myung              Queens         Sunnyside     40.75     -73.92   \n",
       "4      Mark              Queens         Ridgewood     40.70     -73.90   \n",
       "\n",
       "         room_type  price  minimum_nights  number_of_reviews last_review  \\\n",
       "0     Private room    130               3                248    01-07-19   \n",
       "1     Private room     70              30                 25    31-05-19   \n",
       "2     Private room    140               2                  1    19-09-11   \n",
       "3     Private room     79              30                 28    12-04-19   \n",
       "4  Entire home/apt    350               8                 10    12-05-19   \n",
       "\n",
       "   reviews_per_month  calculated_host_listings_count  availability_365  \n",
       "0               2.25                               1               215  \n",
       "1               0.22                               1               324  \n",
       "2               0.01                               1                 1  \n",
       "3               0.26                               1               126  \n",
       "4               0.11                               5               365  "
      ]
     },
     "execution_count": 3,
     "metadata": {},
     "output_type": "execute_result"
    }
   ],
   "source": [
    "data = pandas.read_csv(datafile, sep=',')\n",
    "print(data.shape)\n",
    "print(data.columns)\n",
    "data.head()"
   ]
  },
  {
   "cell_type": "markdown",
   "metadata": {},
   "source": [
    "# Outlier "
   ]
  },
  {
   "cell_type": "code",
   "execution_count": 4,
   "metadata": {},
   "outputs": [
    {
     "data": {
      "text/plain": [
       "<matplotlib.axes._subplots.AxesSubplot at 0x205949b7248>"
      ]
     },
     "execution_count": 4,
     "metadata": {},
     "output_type": "execute_result"
    },
    {
     "data": {
      "image/png": "[encoded data removed]",
      "text/plain": [
       "<Figure size 432x288 with 1 Axes>"
      ]
     },
     "metadata": {
      "needs_background": "light"
     },
     "output_type": "display_data"
    }
   ],
   "source": [
    "data['norm_price'] = np.log1p(data[target_variable])\n",
    "data.boxplot('norm_price')"
   ]
  },
  {
   "cell_type": "code",
   "execution_count": 5,
   "metadata": {},
   "outputs": [
    {
     "name": "stdout",
     "output_type": "stream",
     "text": [
      "data before: (5666, 17)\n",
      "data after: (5601, 17)\n"
     ]
    }
   ],
   "source": [
    "if target_outlier:\n",
    "    print('data before:', data.shape)\n",
    "    data = data[(data.norm_price>3) & (data.norm_price<6)].copy()\n",
    "    print('data after:', data.shape)\n",
    "    data.drop('norm_price', axis=1, inplace=True)"
   ]
  },
  {
   "cell_type": "markdown",
   "metadata": {},
   "source": [
    "# Preencher Valores Nulos"
   ]
  },
  {
   "cell_type": "code",
   "execution_count": 6,
   "metadata": {},
   "outputs": [],
   "source": [
    "for cname in ['number_of_reviews', 'reviews_per_month']:\n",
    "    data[cname].fillna(0, inplace=True)"
   ]
  },
  {
   "cell_type": "markdown",
   "metadata": {},
   "source": [
    "# Normalização de Variáveis"
   ]
  },
  {
   "cell_type": "code",
   "execution_count": 7,
   "metadata": {},
   "outputs": [],
   "source": [
    "if feature_norm:\n",
    "    log_norm_cols = ['minimum_nights', 'number_of_reviews', \n",
    "                     'reviews_per_month', 'calculated_host_listings_count','availability_365']\n",
    "\n",
    "    data[log_norm_cols] = preprocessing.power_transform(data[log_norm_cols], method='yeo-johnson')"
   ]
  },
  {
   "cell_type": "markdown",
   "metadata": {},
   "source": [
    "# Remoção Outlier Variáveis"
   ]
  },
  {
   "cell_type": "code",
   "execution_count": 8,
   "metadata": {},
   "outputs": [],
   "source": [
    "if feature_outlier:\n",
    "    for cname in numeric_variables:\n",
    "        lo_lim = np.quantile(data[cname], 0.10)\n",
    "        up_lim = np.quantile(data[cname], 0.90)\n",
    "        data.loc[data[cname] < lo_lim, cname] = lo_lim\n",
    "        data.loc[data[cname] > up_lim, cname] = up_lim"
   ]
  },
  {
   "cell_type": "markdown",
   "metadata": {},
   "source": [
    "# Normalizando o Alvo "
   ]
  },
  {
   "cell_type": "code",
   "execution_count": 9,
   "metadata": {},
   "outputs": [],
   "source": [
    "if target_norm:\n",
    "    data[target_variable] = np.log1p(data[target_variable])"
   ]
  },
  {
   "cell_type": "markdown",
   "metadata": {},
   "source": [
    "# Codificando Variaveis "
   ]
  },
  {
   "cell_type": "code",
   "execution_count": 10,
   "metadata": {},
   "outputs": [],
   "source": [
    "if len(categorical_variables):\n",
    "    cat_data = pandas.get_dummies(data[categorical_variables])\n",
    "    train_data = pandas.concat((data.drop(categorical_variables,axis=1), cat_data), axis=1, sort=False)\n",
    "    train_data.drop(info_variables, axis=1, inplace=True)\n",
    "else:\n",
    "    train_data = data[numeric_variables+target_variable]"
   ]
  },
  {
   "cell_type": "markdown",
   "metadata": {},
   "source": [
    "# Validação Cruzada "
   ]
  },
  {
   "cell_type": "code",
   "execution_count": 11,
   "metadata": {},
   "outputs": [],
   "source": [
    "# Train Pipeline\n",
    "X = train_data.drop(target_variable, axis=1).values\n",
    "Y = train_data[target_variable].values\n",
    "\n",
    "# Dividir 20% dos dados para o conjunto out-of-sample de teste\n",
    "Xtrain, Xtest, Ytrain, Ytest = model_selection.train_test_split(X,\n",
    "                                                                Y.reshape(-1),\n",
    "                                                                test_size=0.2,\n",
    "                                                                random_state=0)\n",
    "\n",
    "# Objeto de validacao cruzada\n",
    "cvfold = model_selection.KFold(n_splits = 10, random_state = 0)"
   ]
  },
  {
   "cell_type": "markdown",
   "metadata": {},
   "source": [
    "# Curvas de Aprendizado "
   ]
  },
  {
   "cell_type": "code",
   "execution_count": 13,
   "metadata": {},
   "outputs": [
    {
     "data": {
      "text/plain": [
       "<matplotlib.axes._subplots.AxesSubplot at 0x20599c2c888>"
      ]
     },
     "execution_count": 13,
     "metadata": {},
     "output_type": "execute_result"
    },
    {
     "data": {
      "image/png": "[encoded data removed]",
      "text/plain": [
       "<Figure size 432x288 with 1 Axes>"
      ]
     },
     "metadata": {
      "needs_background": "light"
     },
     "output_type": "display_data"
    }
   ],
   "source": [
    "plt.figure()\n",
    "\n",
    "scorer = metrics.make_scorer(metrics.mean_squared_error)\n",
    "\n",
    "title = \"Curva de Aprendizado (Regressão Linear)\"\n",
    "estimator = neighbors.KNeighborsRegressor()\n",
    "plot_learning_curve(estimator, title, Xtrain, Ytrain, ax=plt.gca(),\n",
    "                    cv=cvfold, scoring=scorer, n_jobs=3)\n"
   ]
  },
  {
   "cell_type": "markdown",
   "metadata": {},
   "source": [
    "# Curvas de Validação de Parâmetros  "
   ]
  },
  {
   "cell_type": "code",
   "execution_count": 17,
   "metadata": {},
   "outputs": [
    {
     "name": "stderr",
     "output_type": "stream",
     "text": [
      "C:\\Users\\BZ241WX\\AppData\\Local\\Continuum\\anaconda3\\lib\\site-packages\\sklearn\\model_selection\\_split.py:652: Warning: The least populated class in y has only 1 members, which is too few. The minimum number of members in any class cannot be less than n_splits=3.\n",
      "  % (min_groups, self.n_splits)), Warning)\n"
     ]
    },
    {
     "data": {
      "image/png": "[encoded data removed]",
      "text/plain": [
       "<Figure size 432x288 with 1 Axes>"
      ]
     },
     "metadata": {
      "needs_background": "light"
     },
     "output_type": "display_data"
    }
   ],
   "source": [
    "from sklearn.model_selection import validation_curve\n",
    "\n",
    "scorer = metrics.make_scorer(metrics.mean_squared_error)\n",
    "\n",
    "\n",
    "param_range = [4, 6, 8, 10, 12, 16, 20]\n",
    "plot_validation_curve(neighbors.KNeighborsClassifier(),\n",
    "                      param_name='n_neighbors',\n",
    "                      param_range=param_range,\n",
    "                      X = Xtrain,\n",
    "                      Y = Ytrain,\n",
    "                      scoring = scorer)"
   ]
  },
  {
   "cell_type": "markdown",
   "metadata": {},
   "source": [
    "# Pipeline de Treinamento "
   ]
  },
  {
   "cell_type": "code",
   "execution_count": 18,
   "metadata": {},
   "outputs": [
    {
     "data": {
      "text/plain": [
       "GridSearchCV(cv=KFold(n_splits=10, random_state=0, shuffle=False),\n",
       "       error_score='raise-deprecating',\n",
       "       estimator=Pipeline(memory=None,\n",
       "     steps=[('Scaler', StandardScaler(copy=True, with_mean=True, with_std=True)), ('Model', KNeighborsRegressor(algorithm='auto', leaf_size=30, metric='minkowski',\n",
       "          metric_params=None, n_jobs=None, n_neighbors=5, p=2,\n",
       "          weights='uniform'))]),\n",
       "       fit_params=None, iid='warn', n_jobs=None,\n",
       "       param_grid={'Model__n_neighbors': [4, 6, 8, 10, 12, 16, 20], 'Model__weights': ['uniform', 'distance']},\n",
       "       pre_dispatch='2*n_jobs', refit=True, return_train_score=True,\n",
       "       scoring=None, verbose=0)"
      ]
     },
     "execution_count": 18,
     "metadata": {},
     "output_type": "execute_result"
    }
   ],
   "source": [
    "# Configure Pipeline\n",
    "conf_train_pipe = [\n",
    "    ('Scaler', StandardScaler()),\n",
    "    ('Model', neighbors.KNeighborsRegressor()),\n",
    "]\n",
    "\n",
    "# Create Pipeline\n",
    "model_pipe = pipeline.Pipeline(conf_train_pipe)\n",
    "\n",
    "param_grid = {\n",
    "    'Model__n_neighbors': param_range,\n",
    "    'Model__weights' : ['uniform','distance']\n",
    "}\n",
    "\n",
    "model_pipe = model_selection.GridSearchCV(model_pipe, param_grid,\n",
    "                                     scoring=None,\n",
    "                                     fit_params=None,\n",
    "                                     cv=cvfold,\n",
    "                                     return_train_score=True)\n",
    "\n",
    "model_pipe.fit(Xtrain, Ytrain)"
   ]
  },
  {
   "cell_type": "markdown",
   "metadata": {},
   "source": [
    "## Estimativa do Modelo "
   ]
  },
  {
   "cell_type": "code",
   "execution_count": 19,
   "metadata": {},
   "outputs": [
    {
     "name": "stdout",
     "output_type": "stream",
     "text": [
      "Yhat.shape: (1121,)\n"
     ]
    }
   ],
   "source": [
    "Yhat = model_pipe.predict(Xtest)\n",
    "\n",
    "if target_norm:\n",
    "    Yhat = np.expm1(Yhat)\n",
    "    Ytest = np.expm1(Ytest)\n",
    "else:\n",
    "    Yhat[Yhat<0] = 0\n",
    "\n",
    "\n",
    "print('Yhat.shape:', Yhat.shape)"
   ]
  },
  {
   "cell_type": "markdown",
   "metadata": {},
   "source": [
    "# Scores Validacao Cruzada "
   ]
  },
  {
   "cell_type": "code",
   "execution_count": 21,
   "metadata": {},
   "outputs": [
    {
     "name": "stdout",
     "output_type": "stream",
     "text": [
      "Train\n",
      "\tScore: 0.6241049502769822 +- 0.0025129192991844448\n",
      "Test\n",
      "\tScore: 0.04463463541487995 +- 0.06608848134567664\n"
     ]
    }
   ],
   "source": [
    "print('Train')\n",
    "print('\\tScore:', np.mean(model_pipe.cv_results_['mean_train_score']),\n",
    "       '+-'     , np.mean(model_pipe.cv_results_['std_train_score']))\n",
    "print('Test')\n",
    "print('\\tScore:', np.mean(model_pipe.cv_results_['mean_test_score']),\n",
    "       '+-'     , np.mean(model_pipe.cv_results_['std_test_score']))"
   ]
  },
  {
   "cell_type": "markdown",
   "metadata": {},
   "source": [
    "# Distribuições "
   ]
  },
  {
   "cell_type": "code",
   "execution_count": 22,
   "metadata": {},
   "outputs": [
    {
     "name": "stderr",
     "output_type": "stream",
     "text": [
      "C:\\Users\\BZ241WX\\AppData\\Local\\Continuum\\anaconda3\\lib\\site-packages\\scipy\\stats\\stats.py:1713: FutureWarning: Using a non-tuple sequence for multidimensional indexing is deprecated; use `arr[tuple(seq)]` instead of `arr[seq]`. In the future this will be interpreted as an array index, `arr[np.array(seq)]`, which will result either in an error or a different result.\n",
      "  return np.add.reduce(sorted[indexer] * weights, axis=axis) / sumval\n",
      "No handles with labels found to put in legend.\n"
     ]
    },
    {
     "data": {
      "text/plain": [
       "<matplotlib.legend.Legend at 0x20599ffeb08>"
      ]
     },
     "execution_count": 22,
     "metadata": {},
     "output_type": "execute_result"
    },
    {
     "data": {
      "image/png": "[encoded data removed]",
      "text/plain": [
       "<Figure size 432x288 with 1 Axes>"
      ]
     },
     "metadata": {
      "needs_background": "light"
     },
     "output_type": "display_data"
    }
   ],
   "source": [
    "plt.figure()\n",
    "# idx = Y < 1000\n",
    "sns.distplot(Yhat)\n",
    "sns.distplot(Ytest)\n",
    "plt.title('Resultado Regressão Linear')\n",
    "plt.ylabel('Densidade Estimada KDE')\n",
    "plt.xlabel('Estimativa Modelo')\n",
    "plt.grid()\n",
    "plt.legend()"
   ]
  },
  {
   "cell_type": "markdown",
   "metadata": {},
   "source": [
    "# Scatter Plot "
   ]
  },
  {
   "cell_type": "code",
   "execution_count": 23,
   "metadata": {},
   "outputs": [
    {
     "data": {
      "image/png": "[encoded data removed]",
      "text/plain": [
       "<Figure size 432x288 with 1 Axes>"
      ]
     },
     "metadata": {
      "needs_background": "light"
     },
     "output_type": "display_data"
    }
   ],
   "source": [
    "plt.figure()\n",
    "\n",
    "plt.plot([0, Ytest.max()], [0, Ytest.max()], '-k',lw=2,label='Linha Ideal')\n",
    "plt.scatter(Ytest, Yhat)\n",
    "plt.xlabel('Valor real (preco)')\n",
    "plt.ylabel('Valor estimado (preco)')\n",
    "plt.grid()"
   ]
  },
  {
   "cell_type": "markdown",
   "metadata": {},
   "source": [
    "# Plot de Resíduo "
   ]
  },
  {
   "cell_type": "code",
   "execution_count": 24,
   "metadata": {},
   "outputs": [
    {
     "data": {
      "image/png": "[encoded data removed]",
      "text/plain": [
       "<Figure size 432x288 with 1 Axes>"
      ]
     },
     "metadata": {
      "needs_background": "light"
     },
     "output_type": "display_data"
    }
   ],
   "source": [
    "plt.figure()\n",
    "plt.scatter(Yhat, Ytest - Yhat)\n",
    "plt.xlabel('Valor Estimado (preco)')\n",
    "plt.ylabel('Residuo (preco)')\n",
    "plt.grid()"
   ]
  },
  {
   "cell_type": "markdown",
   "metadata": {},
   "source": [
    "# Metrics"
   ]
  },
  {
   "cell_type": "code",
   "execution_count": 25,
   "metadata": {},
   "outputs": [
    {
     "name": "stdout",
     "output_type": "stream",
     "text": [
      "r2  : 0.1287240959369056\n",
      "mse : 2905.2494019074056\n",
      "msle: 0.2542125960754281\n",
      "mae : 37.85995319171343\n",
      "mape: 48.69772608642855\n"
     ]
    }
   ],
   "source": [
    "def mape(y, yhat):\n",
    "    idx = y != 0\n",
    "    return np.mean(np.abs((y[idx]-yhat[idx])/ y[idx])) * 100\n",
    "\n",
    "\n",
    "print('r2  :', metrics.r2_score(Ytest, Yhat))\n",
    "print('mse :', metrics.mean_squared_error(Ytest, Yhat))\n",
    "print('msle:', metrics.mean_squared_log_error(Ytest, Yhat))\n",
    "print('mae :', metrics.mean_absolute_error(Ytest, Yhat))\n",
    "print('mape:', mape(Ytest, Yhat))\n",
    "\n"
   ]
  },
  {
   "cell_type": "markdown",
   "metadata": {},
   "source": [
    "# Melhor Parâmetro Selecionado "
   ]
  },
  {
   "cell_type": "code",
   "execution_count": 35,
   "metadata": {},
   "outputs": [
    {
     "data": {
      "text/plain": [
       "{'Model__n_neighbors': 20, 'Model__weights': 'distance'}"
      ]
     },
     "execution_count": 35,
     "metadata": {},
     "output_type": "execute_result"
    }
   ],
   "source": [
    "model_pipe.best_params_"
   ]
  }
 ],
 "metadata": {
  "kernelspec": {
   "display_name": "Python 3",
   "language": "python",
   "name": "python3"
  },
  "language_info": {
   "codemirror_mode": {
    "name": "ipython",
    "version": 3
   },
   "file_extension": ".py",
   "mimetype": "text/x-python",
   "name": "python",
   "nbconvert_exporter": "python",
   "pygments_lexer": "ipython3",
   "version": "3.7.4"
  }
 },
 "nbformat": 4,
 "nbformat_minor": 4
}
