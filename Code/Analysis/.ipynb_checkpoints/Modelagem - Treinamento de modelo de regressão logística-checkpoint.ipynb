{
 "cells": [
  {
   "cell_type": "markdown",
   "metadata": {},
   "source": [
    "# Utilizar a base de dados normalizados para treinar um modelo de regressão logistica utilizando o sklearn.\n",
    "\n",
    "## Definição de pronto\n",
    "\n",
    "### Normalizador desenvolvido no ambiente\n",
    "\n",
    "## Definição de entregue\n",
    "\n",
    "### Notebook fazendo a avaliação"
   ]
  },
  {
   "cell_type": "code",
   "execution_count": 12,
   "metadata": {},
   "outputs": [],
   "source": [
    "import pandas as pd\n",
    "import numpy as np\n",
    "import seaborn as sns\n",
    "import matplotlib.pyplot as plt\n",
    "from sklearn import metrics\n",
    "from sklearn import model_selection\n",
    "from sklearn import preprocessing\n",
    "from sklearn import pipeline\n",
    "from sklearn.preprocessing import StandardScaler\n",
    "from sklearn.linear_model import LogisticRegression\n",
    "\n",
    "pd.set_option(\"display.precision\", 2)\n",
    "\n",
    "feature_norm  = True\n",
    "\n",
    "target_variable = ['quality']\n",
    "\n",
    "classifier_variables = ['fixed acidity', 'volatile acidity', 'citric acid', 'residual sugar',\n",
    "                      'chlorides', 'free sulfur dioxide', 'total sulfur dioxide', 'density',\n",
    "                      'pH', 'sulphates', 'alcohol', 'type', ]"
   ]
  },
  {
   "cell_type": "markdown",
   "metadata": {},
   "source": [
    "### Carregando a base processada"
   ]
  },
  {
   "cell_type": "code",
   "execution_count": 13,
   "metadata": {},
   "outputs": [
    {
     "name": "stdout",
     "output_type": "stream",
     "text": [
      "(6497, 13)\n",
      "Index(['fixed acidity', 'volatile acidity', 'citric acid', 'residual sugar',\n",
      "       'chlorides', 'free sulfur dioxide', 'total sulfur dioxide', 'density',\n",
      "       'pH', 'sulphates', 'alcohol', 'quality', 'type'],\n",
      "      dtype='object')\n"
     ]
    },
    {
     "data": {
      "text/html": [
       "<div>\n",
       "<style scoped>\n",
       "    .dataframe tbody tr th:only-of-type {\n",
       "        vertical-align: middle;\n",
       "    }\n",
       "\n",
       "    .dataframe tbody tr th {\n",
       "        vertical-align: top;\n",
       "    }\n",
       "\n",
       "    .dataframe thead th {\n",
       "        text-align: right;\n",
       "    }\n",
       "</style>\n",
       "<table border=\"1\" class=\"dataframe\">\n",
       "  <thead>\n",
       "    <tr style=\"text-align: right;\">\n",
       "      <th></th>\n",
       "      <th>fixed acidity</th>\n",
       "      <th>volatile acidity</th>\n",
       "      <th>citric acid</th>\n",
       "      <th>residual sugar</th>\n",
       "      <th>chlorides</th>\n",
       "      <th>free sulfur dioxide</th>\n",
       "      <th>total sulfur dioxide</th>\n",
       "      <th>density</th>\n",
       "      <th>pH</th>\n",
       "      <th>sulphates</th>\n",
       "      <th>alcohol</th>\n",
       "      <th>quality</th>\n",
       "      <th>type</th>\n",
       "    </tr>\n",
       "    <tr>\n",
       "      <th>index</th>\n",
       "      <th></th>\n",
       "      <th></th>\n",
       "      <th></th>\n",
       "      <th></th>\n",
       "      <th></th>\n",
       "      <th></th>\n",
       "      <th></th>\n",
       "      <th></th>\n",
       "      <th></th>\n",
       "      <th></th>\n",
       "      <th></th>\n",
       "      <th></th>\n",
       "      <th></th>\n",
       "    </tr>\n",
       "  </thead>\n",
       "  <tbody>\n",
       "    <tr>\n",
       "      <th>0</th>\n",
       "      <td>7.4</td>\n",
       "      <td>0.70</td>\n",
       "      <td>0.00</td>\n",
       "      <td>1.9</td>\n",
       "      <td>0.08</td>\n",
       "      <td>11.0</td>\n",
       "      <td>34.0</td>\n",
       "      <td>1.0</td>\n",
       "      <td>3.51</td>\n",
       "      <td>0.56</td>\n",
       "      <td>9.4</td>\n",
       "      <td>5</td>\n",
       "      <td>1</td>\n",
       "    </tr>\n",
       "    <tr>\n",
       "      <th>1</th>\n",
       "      <td>7.8</td>\n",
       "      <td>0.88</td>\n",
       "      <td>0.00</td>\n",
       "      <td>2.6</td>\n",
       "      <td>0.10</td>\n",
       "      <td>25.0</td>\n",
       "      <td>67.0</td>\n",
       "      <td>1.0</td>\n",
       "      <td>3.20</td>\n",
       "      <td>0.68</td>\n",
       "      <td>9.8</td>\n",
       "      <td>5</td>\n",
       "      <td>1</td>\n",
       "    </tr>\n",
       "    <tr>\n",
       "      <th>2</th>\n",
       "      <td>7.8</td>\n",
       "      <td>0.76</td>\n",
       "      <td>0.04</td>\n",
       "      <td>2.3</td>\n",
       "      <td>0.09</td>\n",
       "      <td>15.0</td>\n",
       "      <td>54.0</td>\n",
       "      <td>1.0</td>\n",
       "      <td>3.26</td>\n",
       "      <td>0.65</td>\n",
       "      <td>9.8</td>\n",
       "      <td>5</td>\n",
       "      <td>1</td>\n",
       "    </tr>\n",
       "    <tr>\n",
       "      <th>3</th>\n",
       "      <td>11.2</td>\n",
       "      <td>0.28</td>\n",
       "      <td>0.56</td>\n",
       "      <td>1.9</td>\n",
       "      <td>0.07</td>\n",
       "      <td>17.0</td>\n",
       "      <td>60.0</td>\n",
       "      <td>1.0</td>\n",
       "      <td>3.16</td>\n",
       "      <td>0.58</td>\n",
       "      <td>9.8</td>\n",
       "      <td>6</td>\n",
       "      <td>1</td>\n",
       "    </tr>\n",
       "    <tr>\n",
       "      <th>4</th>\n",
       "      <td>7.4</td>\n",
       "      <td>0.70</td>\n",
       "      <td>0.00</td>\n",
       "      <td>1.9</td>\n",
       "      <td>0.08</td>\n",
       "      <td>11.0</td>\n",
       "      <td>34.0</td>\n",
       "      <td>1.0</td>\n",
       "      <td>3.51</td>\n",
       "      <td>0.56</td>\n",
       "      <td>9.4</td>\n",
       "      <td>5</td>\n",
       "      <td>1</td>\n",
       "    </tr>\n",
       "  </tbody>\n",
       "</table>\n",
       "</div>"
      ],
      "text/plain": [
       "       fixed acidity  volatile acidity  citric acid  residual sugar  \\\n",
       "index                                                                 \n",
       "0                7.4              0.70         0.00             1.9   \n",
       "1                7.8              0.88         0.00             2.6   \n",
       "2                7.8              0.76         0.04             2.3   \n",
       "3               11.2              0.28         0.56             1.9   \n",
       "4                7.4              0.70         0.00             1.9   \n",
       "\n",
       "       chlorides  free sulfur dioxide  total sulfur dioxide  density    pH  \\\n",
       "index                                                                        \n",
       "0           0.08                 11.0                  34.0      1.0  3.51   \n",
       "1           0.10                 25.0                  67.0      1.0  3.20   \n",
       "2           0.09                 15.0                  54.0      1.0  3.26   \n",
       "3           0.07                 17.0                  60.0      1.0  3.16   \n",
       "4           0.08                 11.0                  34.0      1.0  3.51   \n",
       "\n",
       "       sulphates  alcohol  quality  type  \n",
       "index                                     \n",
       "0           0.56      9.4        5     1  \n",
       "1           0.68      9.8        5     1  \n",
       "2           0.65      9.8        5     1  \n",
       "3           0.58      9.8        6     1  \n",
       "4           0.56      9.4        5     1  "
      ]
     },
     "execution_count": 13,
     "metadata": {},
     "output_type": "execute_result"
    }
   ],
   "source": [
    "df_wine = pd.read_parquet(\"../../Data/Processed/wine/df_wine.parquet\")\n",
    "print(df_wine.shape)\n",
    "print(df_wine.columns)\n",
    "df_wine.head()"
   ]
  },
  {
   "cell_type": "markdown",
   "metadata": {},
   "source": [
    "### Selecionando os dados que serao utilizados\n"
   ]
  },
  {
   "cell_type": "markdown",
   "metadata": {},
   "source": [
    "### Normalizando os dados"
   ]
  },
  {
   "cell_type": "code",
   "execution_count": 14,
   "metadata": {},
   "outputs": [
    {
     "name": "stderr",
     "output_type": "stream",
     "text": [
      "/home/marcelo/Documentos/infnet/conda/conda_env/lib/python3.8/site-packages/sklearn/preprocessing/_data.py:2995: RuntimeWarning: divide by zero encountered in log\n",
      "  loglike = -n_samples / 2 * np.log(x_trans.var())\n"
     ]
    }
   ],
   "source": [
    "df_wine[classifier_variables] = preprocessing.power_transform(df_wine[classifier_variables], method='yeo-johnson')"
   ]
  },
  {
   "cell_type": "markdown",
   "metadata": {},
   "source": [
    "#### Problema reportado no método yeo-johnson\n",
    "\n",
    "https://github.com/scikit-learn/scikit-learn/issues/14959"
   ]
  },
  {
   "cell_type": "markdown",
   "metadata": {},
   "source": [
    "### Ajuste dos dados para o treinamento"
   ]
  },
  {
   "cell_type": "code",
   "execution_count": 15,
   "metadata": {},
   "outputs": [
    {
     "name": "stderr",
     "output_type": "stream",
     "text": [
      "/home/marcelo/Documentos/infnet/conda/conda_env/lib/python3.8/site-packages/sklearn/utils/validation.py:73: DataConversionWarning: A column-vector y was passed when a 1d array was expected. Please change the shape of y to (n_samples, ), for example using ravel().\n",
      "  return f(**kwargs)\n"
     ]
    },
    {
     "data": {
      "text/plain": [
       "Pipeline(steps=[('Scaler', StandardScaler()),\n",
       "                ('Model', LogisticRegression(random_state=0))])"
      ]
     },
     "execution_count": 15,
     "metadata": {},
     "output_type": "execute_result"
    }
   ],
   "source": [
    "# Configurando o Pipeline\n",
    "conf_train_pipe = [\n",
    "    ('Scaler', StandardScaler()),\n",
    "    ('Model', LogisticRegression(random_state=0)),\n",
    "]\n",
    "\n",
    "# Criando o Pipeline\n",
    "model_pipe = pipeline.Pipeline(conf_train_pipe)\n",
    "\n",
    "# Train Pipeline\n",
    "X = df_wine[classifier_variables].values\n",
    "Y = df_wine[target_variable].values\n",
    "idx = Y > 5\n",
    "classes=['baixa qualidade','alta qualidade']\n",
    "Y[idx] = 1\n",
    "Y[~idx]= 0\n",
    "\n",
    "model_pipe.fit(X, Y)"
   ]
  },
  {
   "cell_type": "markdown",
   "metadata": {},
   "source": [
    "### Estimativa dos modelos treinados"
   ]
  },
  {
   "cell_type": "code",
   "execution_count": 16,
   "metadata": {},
   "outputs": [
    {
     "name": "stdout",
     "output_type": "stream",
     "text": [
      "Yhat.shape: (6497,)\n",
      "Ypred.shape: (6497,)\n"
     ]
    }
   ],
   "source": [
    "Yhat = model_pipe.predict_proba(X)[:,1]\n",
    "Ypred= model_pipe.predict(X)\n",
    "print('Yhat.shape:', Yhat.shape)\n",
    "print('Ypred.shape:', Ypred.shape)"
   ]
  },
  {
   "cell_type": "markdown",
   "metadata": {},
   "source": [
    "### Distribuição das estimativas do modelo utilizando o seaborn"
   ]
  },
  {
   "cell_type": "code",
   "execution_count": 17,
   "metadata": {},
   "outputs": [
    {
     "data": {
      "text/plain": [
       "<matplotlib.legend.Legend at 0x7f5db86e5280>"
      ]
     },
     "execution_count": 17,
     "metadata": {},
     "output_type": "execute_result"
    },
    {
     "data": {
      "image/png": "[encoded data removed]",
      "text/plain": [
       "<Figure size 432x288 with 1 Axes>"
      ]
     },
     "metadata": {
      "needs_background": "light"
     },
     "output_type": "display_data"
    }
   ],
   "source": [
    "for i in range(len(classes)):\n",
    "    # 2 Classes case\n",
    "    sns.distplot(Yhat[Y[:,0] == i], label=classes[i])\n",
    "\n",
    "plt.title('Regressão Logística')\n",
    "plt.ylabel('Densidade Estimada KDE')\n",
    "plt.xlabel('Probabilidade Vinho Alta Qualidade')\n",
    "plt.grid()\n",
    "plt.legend()"
   ]
  },
  {
   "cell_type": "code",
   "execution_count": 18,
   "metadata": {},
   "outputs": [
    {
     "data": {
      "text/plain": [
       "Text(0, 0.5, 'Taxa de Detecção')"
      ]
     },
     "execution_count": 18,
     "metadata": {},
     "output_type": "execute_result"
    },
    {
     "data": {
      "image/png": "[encoded data removed]",
      "text/plain": [
       "<Figure size 432x288 with 1 Axes>"
      ]
     },
     "metadata": {
      "needs_background": "light"
     },
     "output_type": "display_data"
    }
   ],
   "source": [
    "# help(metrics.roc_curve)\n",
    "plt.figure()\n",
    "fpr, tpr, thr = metrics.roc_curve(Y, Yhat)\n",
    "auc = metrics.roc_auc_score(Y, Yhat)\n",
    "plt.plot(fpr, tpr, '-', lw=2, label='AUC: %.2f'%(auc))\n",
    "plt.legend()\n",
    "plt.title('Classificador Vinhos de Alta Qualidade')\n",
    "plt.grid()\n",
    "plt.xlabel('Taxa de Falso Alarme')\n",
    "plt.ylabel('Taxa de Detecção')"
   ]
  },
  {
   "cell_type": "markdown",
   "metadata": {},
   "source": [
    "**Pela curva ROC poderíamos escolher uma taxa de detecção (sensibilidade) de aproximadamente 75% que teríamos  aproximadamente 20% de falsos positivos (especificidade).**"
   ]
  },
  {
   "cell_type": "code",
   "execution_count": 19,
   "metadata": {
    "scrolled": true
   },
   "outputs": [
    {
     "data": {
      "text/html": [
       "<div>\n",
       "<style scoped>\n",
       "    .dataframe tbody tr th:only-of-type {\n",
       "        vertical-align: middle;\n",
       "    }\n",
       "\n",
       "    .dataframe tbody tr th {\n",
       "        vertical-align: top;\n",
       "    }\n",
       "\n",
       "    .dataframe thead th {\n",
       "        text-align: right;\n",
       "    }\n",
       "</style>\n",
       "<table border=\"1\" class=\"dataframe\">\n",
       "  <thead>\n",
       "    <tr style=\"text-align: right;\">\n",
       "      <th></th>\n",
       "      <th>Modelo baixa qualidade</th>\n",
       "      <th>Modelo alta qualidade</th>\n",
       "      <th>Real Total</th>\n",
       "    </tr>\n",
       "  </thead>\n",
       "  <tbody>\n",
       "    <tr>\n",
       "      <th>Real baixa qualidade</th>\n",
       "      <td>1372</td>\n",
       "      <td>1012</td>\n",
       "      <td>2384</td>\n",
       "    </tr>\n",
       "    <tr>\n",
       "      <th>Real alta qualidade</th>\n",
       "      <td>638</td>\n",
       "      <td>3475</td>\n",
       "      <td>4113</td>\n",
       "    </tr>\n",
       "    <tr>\n",
       "      <th>Modelo Total</th>\n",
       "      <td>2010</td>\n",
       "      <td>4487</td>\n",
       "      <td>6497</td>\n",
       "    </tr>\n",
       "  </tbody>\n",
       "</table>\n",
       "</div>"
      ],
      "text/plain": [
       "                      Modelo baixa qualidade  Modelo alta qualidade  \\\n",
       "Real baixa qualidade                    1372                   1012   \n",
       "Real alta qualidade                      638                   3475   \n",
       "Modelo Total                            2010                   4487   \n",
       "\n",
       "                      Real Total  \n",
       "Real baixa qualidade        2384  \n",
       "Real alta qualidade         4113  \n",
       "Modelo Total                6497  "
      ]
     },
     "execution_count": 19,
     "metadata": {},
     "output_type": "execute_result"
    }
   ],
   "source": [
    "col_names = ['Modelo ' + s for s in classes]\n",
    "idx_names = ['Real ' + s for s in classes]\n",
    "\n",
    "cmat = metrics.confusion_matrix(Y, Ypred)\n",
    "cmat = pandas.DataFrame(cmat, index=idx_names,\n",
    "                              columns=col_names)\n",
    "cmat['Real Total'] = cmat.sum(axis=1)\n",
    "cmat.loc['Modelo Total',:] = cmat.sum(axis=0)\n",
    "cmat = cmat.astype(int)\n",
    "cmat"
   ]
  },
  {
   "cell_type": "code",
   "execution_count": 10,
   "metadata": {},
   "outputs": [
    {
     "name": "stdout",
     "output_type": "stream",
     "text": [
      "                 precision    recall  f1-score   support\n",
      "\n",
      "baixa qualidade       0.68      0.57      0.62      2384\n",
      " alta qualidade       0.77      0.84      0.81      4113\n",
      "\n",
      "       accuracy                           0.74      6497\n",
      "      macro avg       0.73      0.71      0.71      6497\n",
      "   weighted avg       0.74      0.74      0.74      6497\n",
      "\n"
     ]
    }
   ],
   "source": [
    "print(metrics.classification_report(Y, Ypred, target_names=classes))"
   ]
  },
  {
   "cell_type": "code",
   "execution_count": 11,
   "metadata": {},
   "outputs": [
    {
     "name": "stderr",
     "output_type": "stream",
     "text": [
      "/home/marcelo/Documentos/infnet/conda/conda_env/lib/python3.8/site-packages/sklearn/utils/validation.py:73: DataConversionWarning: A column-vector y was passed when a 1d array was expected. Please change the shape of y to (n_samples, ), for example using ravel().\n",
      "  return f(**kwargs)\n"
     ]
    },
    {
     "data": {
      "image/png": "[encoded data removed]",
      "text/plain": [
       "<Figure size 432x288 with 1 Axes>"
      ]
     },
     "metadata": {
      "needs_background": "light"
     },
     "output_type": "display_data"
    }
   ],
   "source": [
    "from sklearn.calibration import CalibratedClassifierCV, calibration_curve\n",
    "\n",
    "# Calibrated with sigmoid calibration\n",
    "calib_sigmoid = CalibratedClassifierCV(model_pipe, cv=None, method='sigmoid')\n",
    "calib_sigmoid.fit(X,Y)\n",
    "Ypred_calib = calib_sigmoid.predict(X)\n",
    "Yhat_calib  = calib_sigmoid.predict_proba(X)[:,1]\n",
    "\n",
    "\n",
    "# Modelo perfeito\n",
    "plt.plot([0, 1], [0, 1], \"k:\", label=\"Perfectly calibrated\")\n",
    "\n",
    "# Modelo logistico puro\n",
    "clf_score = metrics.brier_score_loss(Y, Yhat, pos_label=1)\n",
    "fraction_of_positives, mean_predicted_value = calibration_curve(Y, Yhat, n_bins=10)\n",
    "plt.plot(mean_predicted_value, fraction_of_positives, \"s-\", label=\"Logistic (%1.3f)\" %clf_score)\n",
    "\n",
    "# Modelo calibrado\n",
    "clf_score = metrics.brier_score_loss(Y, Yhat_calib, pos_label=1)\n",
    "fraction_of_positives, mean_predicted_value = calibration_curve(Y, Yhat_calib, n_bins=10)\n",
    "plt.plot(mean_predicted_value, fraction_of_positives, \"s-\", label=\"Calibrado (%1.3f)\" %clf_score)\n",
    "\n",
    "plt.ylabel(\"Fração de Positivos Classificados\")\n",
    "plt.xlabel(\"Valor Médio Previsto de Positivos\")\n",
    "plt.ylim([-0.05, 1.05])\n",
    "plt.title('Curvas de Calibração')\n",
    "plt.legend()\n",
    "plt.grid()"
   ]
  },
  {
   "cell_type": "code",
   "execution_count": null,
   "metadata": {},
   "outputs": [],
   "source": []
  }
 ],
 "metadata": {
  "kernelspec": {
   "display_name": "Python 3",
   "language": "python",
   "name": "python3"
  },
  "language_info": {
   "codemirror_mode": {
    "name": "ipython",
    "version": 3
   },
   "file_extension": ".py",
   "mimetype": "text/x-python",
   "name": "python",
   "nbconvert_exporter": "python",
   "pygments_lexer": "ipython3",
   "version": "3.8.2"
  }
 },
 "nbformat": 4,
 "nbformat_minor": 4
}
